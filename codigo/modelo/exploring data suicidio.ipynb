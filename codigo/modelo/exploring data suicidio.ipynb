{
 "cells": [
  {
   "cell_type": "code",
   "execution_count": 1,
   "metadata": {},
   "outputs": [],
   "source": [
    "import os\n",
    "import pandas as pd\n",
    "import re"
   ]
  },
  {
   "cell_type": "raw",
   "metadata": {},
   "source": [
    "from gensim.models import KeyedVectors\n",
    "path_w2v=\"/home/kid/Documentos/tesis unsa suicidio/cod_suicidio/codigo/modelo/w2d_latin.bin\"\n",
    "model = KeyedVectors.load_word2vec_format(path_w2v, binary=True)"
   ]
  },
  {
   "cell_type": "raw",
   "metadata": {},
   "source": [
    "model.wv.most_similar('mancar',topn=20)"
   ]
  },
  {
   "cell_type": "raw",
   "metadata": {},
   "source": [
    "print(model.wv.most_similar(positive=[\"peru\",\"petatear\"],negative=[\"mexico\"]))"
   ]
  },
  {
   "cell_type": "raw",
   "metadata": {},
   "source": [
    "print('RAZONAMIENTO ANALÓGICO')\n",
    "print('¿Cómo se le dice a una mujer que es rey?')\n",
    "print(model.wv.most_similar(positive=[\"mujer\",\"rey\"],negative=[\"hombre\"]))\n",
    "print('¿Cómos de le dice a un parcero que es una mujer?')\n",
    "print(model.wv.most_similar(positive=[\"mujer\",\"parcero\"],negative=[\"hombre\"]))\n",
    "print('Si el \"pozole\" es a \"Mexico\", X es a \"Colombia\". i.e. ¿Cual es la sopa tradicional de Colombia?')\n",
    "print(model.wv.most_similar(positive=[\"colombia\",\"pozole\"],negative=[\"mexico\"]))\n",
    "print()\n",
    "print('RAZONAMIENTO COMPOSICIONAL')\n",
    "print(\"¿Qué usas con una chaqueta en Argentina?\")\n",
    "print(model.wv.most_similar(positive=[\"chaqueta\",\"argentina\"]))\n",
    "print(\"¿Qué es lo más parecido en Bogotá a un metro?\")\n",
    "print(model.wv.most_similar(positive=[\"bogotá\",\"metro\"]))\n",
    "print()\n",
    "print('EVALUACION DE LA SIMILITUD')\n",
    "print('¿Colombia se parece más a Ecuador o a Corea?')\n",
    "print(\"Colombia vs. Ecuador\",model.wv.similarity(\"colombia\",\"ecuador\"))\n",
    "print(\"Colombia vs. Corea\",model.wv.similarity(\"colombia\",\"corea\"))\n",
    "print()\n",
    "print(\"EVALUACION DE LA PERTENENCIA A UN GRUPO\")\n",
    "print('¿Cual pais no hace parte del grupo Colombia, Ecuador, China. Venezuela?')\n",
    "print(model.wv.doesnt_match([\"colombia\",\"ecuador\",\"china\",\"venezuela\"]))\n",
    "print('¿Cual palabra no pertenece al grupo \"comer\",\"bailar\",\"jugar\" y \"edificio\"?')\n",
    "print(model.wv.doesnt_match([\"comer\",\"bailar\",\"jugar\",\"edificio\"]))"
   ]
  },
  {
   "cell_type": "code",
   "execution_count": 2,
   "metadata": {},
   "outputs": [],
   "source": [
    "df=pd.read_csv('suicidio_notacion.csv')"
   ]
  },
  {
   "cell_type": "code",
   "execution_count": 3,
   "metadata": {},
   "outputs": [],
   "source": [
    "f = open('stopwords.txt') # Open file on read mode\n",
    "stopwords = f.read().split(\"\\n\") # Create a list containing all lines\n",
    "f.close() # Close file"
   ]
  },
  {
   "cell_type": "code",
   "execution_count": 4,
   "metadata": {},
   "outputs": [],
   "source": [
    "def delete_sw(frase):\n",
    "\tsin=[word for word in frase.split() if word not in stopwords]\n",
    "\t#print('Stopwords',sin)\n",
    "\tif len(sin)==0:\n",
    "\t\treturn frase\n",
    "\telse:\n",
    " \t\treturn ' '.join(sin)"
   ]
  },
  {
   "cell_type": "code",
   "execution_count": 5,
   "metadata": {},
   "outputs": [],
   "source": [
    "df['tweet_clean']=df['tweet_clean'].apply(delete_sw)"
   ]
  },
  {
   "cell_type": "code",
   "execution_count": 6,
   "metadata": {},
   "outputs": [],
   "source": [
    "def get_random_data():\n",
    "\t#texto, clase = load_data(url_data_csv)\n",
    "\t#print(texto) \n",
    "\t#data_select = pd.DataFrame({'tweet_clean': texto,'suicidio': clase})\n",
    "\t#print(data_select.shape)\n",
    "\tbalanced = df.groupby('suicidio').apply(sampling_k_elements).reset_index(drop=True)\n",
    "\treturn balanced\n",
    "\n",
    "# Toma 'k' datos random del dataset\n",
    "def sampling_k_elements(group, k=500): \n",
    "    if len(group) < k:\n",
    "        return group\n",
    "    return group.sample(k)"
   ]
  },
  {
   "cell_type": "code",
   "execution_count": 7,
   "metadata": {},
   "outputs": [],
   "source": [
    "#bal=get_random_data()\n",
    "bal=df\n",
    "#bal.suicidio=bal.suicidio.astype(str)"
   ]
  },
  {
   "cell_type": "code",
   "execution_count": 8,
   "metadata": {},
   "outputs": [],
   "source": [
    "bal.suicidio=bal.suicidio.replace(1,'suicidal')\n",
    "bal.suicidio=bal.suicidio.replace(0,'not suicidal')"
   ]
  },
  {
   "cell_type": "markdown",
   "metadata": {},
   "source": [
    "### Distribuição dos dados por período de tempo"
   ]
  },
  {
   "cell_type": "code",
   "execution_count": 9,
   "metadata": {},
   "outputs": [],
   "source": [
    "import matplotlib.pyplot as plt"
   ]
  },
  {
   "cell_type": "code",
   "execution_count": 10,
   "metadata": {},
   "outputs": [
    {
     "data": {
      "text/plain": [
       "Text(0, 0.5, 'Tweets Number')"
      ]
     },
     "execution_count": 10,
     "metadata": {},
     "output_type": "execute_result"
    },
    {
     "data": {
      "image/png": "[encoded data removed]",
      "text/plain": [
       "<Figure size 432x288 with 1 Axes>"
      ]
     },
     "metadata": {
      "needs_background": "light"
     },
     "output_type": "display_data"
    }
   ],
   "source": [
    "#df['suicidio'].value_counts().plot.bar()\n",
    "bal['suicidio'].value_counts().plot(kind='bar',alpha=0.75, rot=0)\n",
    "plt.ylabel('Tweets Number')\n",
    "#ax.set_xticklabels(in_mes)"
   ]
  },
  {
   "cell_type": "code",
   "execution_count": 11,
   "metadata": {},
   "outputs": [
    {
     "data": {
      "text/html": [
       "<div>\n",
       "<style scoped>\n",
       "    .dataframe tbody tr th:only-of-type {\n",
       "        vertical-align: middle;\n",
       "    }\n",
       "\n",
       "    .dataframe tbody tr th {\n",
       "        vertical-align: top;\n",
       "    }\n",
       "\n",
       "    .dataframe thead th {\n",
       "        text-align: right;\n",
       "    }\n",
       "</style>\n",
       "<table border=\"1\" class=\"dataframe\">\n",
       "  <thead>\n",
       "    <tr style=\"text-align: right;\">\n",
       "      <th></th>\n",
       "      <th>frase</th>\n",
       "      <th>tweet_clean</th>\n",
       "      <th>suicidio</th>\n",
       "    </tr>\n",
       "  </thead>\n",
       "  <tbody>\n",
       "    <tr>\n",
       "      <th>2063</th>\n",
       "      <td>data de similaridad</td>\n",
       "      <td>suicidarme</td>\n",
       "      <td>suicidal</td>\n",
       "    </tr>\n",
       "    <tr>\n",
       "      <th>2064</th>\n",
       "      <td>data de similaridad</td>\n",
       "      <td>yendo suicidarme</td>\n",
       "      <td>suicidal</td>\n",
       "    </tr>\n",
       "    <tr>\n",
       "      <th>2065</th>\n",
       "      <td>data de similaridad</td>\n",
       "      <td>sale suicidarme</td>\n",
       "      <td>suicidal</td>\n",
       "    </tr>\n",
       "    <tr>\n",
       "      <th>2066</th>\n",
       "      <td>data de similaridad</td>\n",
       "      <td>no suicidarme</td>\n",
       "      <td>suicidal</td>\n",
       "    </tr>\n",
       "    <tr>\n",
       "      <th>2067</th>\n",
       "      <td>data de similaridad</td>\n",
       "      <td>suicidarme</td>\n",
       "      <td>suicidal</td>\n",
       "    </tr>\n",
       "  </tbody>\n",
       "</table>\n",
       "</div>"
      ],
      "text/plain": [
       "                    frase       tweet_clean  suicidio\n",
       "2063  data de similaridad        suicidarme  suicidal\n",
       "2064  data de similaridad  yendo suicidarme  suicidal\n",
       "2065  data de similaridad   sale suicidarme  suicidal\n",
       "2066  data de similaridad     no suicidarme  suicidal\n",
       "2067  data de similaridad        suicidarme  suicidal"
      ]
     },
     "execution_count": 11,
     "metadata": {},
     "output_type": "execute_result"
    }
   ],
   "source": [
    "bal.tail()"
   ]
  },
  {
   "cell_type": "raw",
   "metadata": {},
   "source": [
    "no_sui.head()"
   ]
  },
  {
   "cell_type": "markdown",
   "metadata": {},
   "source": [
    "### Vocabulario"
   ]
  },
  {
   "cell_type": "code",
   "execution_count": 12,
   "metadata": {},
   "outputs": [],
   "source": [
    "from nltk.stem.porter import PorterStemmer\n",
    "from gensim import corpora, models\n",
    "import gensim"
   ]
  },
  {
   "cell_type": "markdown",
   "metadata": {},
   "source": [
    "### Nuvem geral de palavras"
   ]
  },
  {
   "cell_type": "code",
   "execution_count": 13,
   "metadata": {},
   "outputs": [],
   "source": [
    "from wordcloud import WordCloud\n",
    "import matplotlib.pyplot as plt"
   ]
  },
  {
   "cell_type": "code",
   "execution_count": 14,
   "metadata": {},
   "outputs": [],
   "source": [
    "no_sui = bal.loc[bal.suicidio=='not suicidal']\n",
    "si_sui = bal.loc[bal.suicidio=='suicidal']"
   ]
  },
  {
   "cell_type": "code",
   "execution_count": 15,
   "metadata": {},
   "outputs": [
    {
     "data": {
      "image/png": "[encoded data removed]",
      "text/plain": [
       "<Figure size 360x360 with 1 Axes>"
      ]
     },
     "metadata": {
      "needs_background": "light"
     },
     "output_type": "display_data"
    }
   ],
   "source": [
    "text = ' '.join(no_sui.tweet_clean)\n",
    "wordcloud = WordCloud(max_font_size=100,width = 350, height = 300).generate(text)\n",
    "plt.figure(figsize=(5,5))\n",
    "plt.imshow(wordcloud)\n",
    "plt.axis(\"off\")\n",
    "plt.show()"
   ]
  },
  {
   "cell_type": "code",
   "execution_count": 16,
   "metadata": {},
   "outputs": [
    {
     "data": {
      "image/png": "[encoded data removed]",
      "text/plain": [
       "<Figure size 360x360 with 1 Axes>"
      ]
     },
     "metadata": {
      "needs_background": "light"
     },
     "output_type": "display_data"
    }
   ],
   "source": [
    "text = ' '.join(si_sui.tweet_clean)\n",
    "wordcloud = WordCloud(max_font_size=100,width = 350, height = 300).generate(text)\n",
    "plt.figure(figsize=(5,5))\n",
    "plt.imshow(wordcloud)\n",
    "plt.axis(\"off\")\n",
    "plt.show()"
   ]
  },
  {
   "cell_type": "raw",
   "metadata": {},
   "source": [
    "wordcloud=WordCloud(max_font_size=100,width = 1520, height = 535).generate_from_frequencies(data)"
   ]
  },
  {
   "cell_type": "markdown",
   "metadata": {},
   "source": [
    "### Scatter "
   ]
  },
  {
   "cell_type": "code",
   "execution_count": 17,
   "metadata": {
    "scrolled": true
   },
   "outputs": [
    {
     "data": {
      "text/html": [
       "<style>.container { width:98% !important; }</style>"
      ],
      "text/plain": [
       "<IPython.core.display.HTML object>"
      ]
     },
     "metadata": {},
     "output_type": "display_data"
    }
   ],
   "source": [
    "import numpy as np\n",
    "import scattertext as st\n",
    "import spacy\n",
    "from IPython.display import IFrame\n",
    "from IPython.core.display import display, HTML\n",
    "display(HTML(\"<style>.container { width:98% !important; }</style>\"))"
   ]
  },
  {
   "cell_type": "markdown",
   "metadata": {},
   "source": [
    "### Esquerda vs Direita"
   ]
  },
  {
   "cell_type": "code",
   "execution_count": 18,
   "metadata": {},
   "outputs": [],
   "source": [
    "corpus = (st.CorpusFromPandas(bal, \n",
    "                              category_col='suicidio', \n",
    "                              text_col='tweet_clean',\n",
    "                              nlp = st.whitespace_nlp_with_sentences)\n",
    "          .build())"
   ]
  },
  {
   "cell_type": "code",
   "execution_count": 19,
   "metadata": {
    "scrolled": true
   },
   "outputs": [
    {
     "name": "stderr",
     "output_type": "stream",
     "text": [
      "/home/kid/anaconda3/lib/python3.7/site-packages/scattertext/frequencyreaders/DefaultBackgroundFrequencies.py:30: FutureWarning: read_table is deprecated, use read_csv instead, passing sep='\\t'.\n",
      "  names=['word', 'background'])\n",
      "/home/kid/anaconda3/lib/python3.7/site-packages/scattertext/frequencyreaders/DefaultBackgroundFrequencies.py:30: FutureWarning: read_table is deprecated, use read_csv instead, passing sep='\\t'.\n",
      "  names=['word', 'background'])\n"
     ]
    },
    {
     "data": {
      "text/html": [
       "\n",
       "        <iframe\n",
       "            width=\"1300\"\n",
       "            height=\"700\"\n",
       "            src=\"rotten_fresh_st.html\"\n",
       "            frameborder=\"0\"\n",
       "            allowfullscreen\n",
       "        ></iframe>\n",
       "        "
      ],
      "text/plain": [
       "<IPython.lib.display.IFrame at 0x7fc2f545f5f8>"
      ]
     },
     "execution_count": 19,
     "metadata": {},
     "output_type": "execute_result"
    }
   ],
   "source": [
    "html = st.produce_scattertext_explorer(\n",
    "    corpus,\n",
    "    category='suicidal',\n",
    "    not_categories=['not suicidal'],\n",
    "    minimum_term_frequency=5,\n",
    "    sort_by_dist=False,\n",
    "    term_scorer=st.RankDifference(),\n",
    ")\n",
    "file_name = 'rotten_fresh_st.html'\n",
    "open(file_name, 'wb').write(html.encode('utf-8'))\n",
    "IFrame(src=file_name, width = 1300, height=700)"
   ]
  },
  {
   "cell_type": "code",
   "execution_count": 20,
   "metadata": {},
   "outputs": [
    {
     "data": {
      "text/plain": [
       "547355"
      ]
     },
     "execution_count": 20,
     "metadata": {},
     "output_type": "execute_result"
    }
   ],
   "source": [
    "#html_file_name = \"RV-Parks-Campgrounds-Yelp-Review-Scattertext.html\"\n",
    "open('suicidio.html', 'wb').write(html.encode('utf-8'))"
   ]
  },
  {
   "cell_type": "markdown",
   "metadata": {},
   "source": [
    "### BOLSONARO VS CIRO"
   ]
  },
  {
   "cell_type": "code",
   "execution_count": null,
   "metadata": {},
   "outputs": [],
   "source": [
    "df2=df[(df.Candidato=='Bolsonaro')|(df.Candidato=='Ciro Gomes')]\n",
    "#|(df.Candidato=='Marina silva')"
   ]
  },
  {
   "cell_type": "code",
   "execution_count": null,
   "metadata": {},
   "outputs": [],
   "source": [
    "corpus = (st.CorpusFromPandas(df2, \n",
    "                              category_col='Candidato', \n",
    "                              text_col='Text_clean',\n",
    "                              nlp = st.whitespace_nlp_with_sentences)\n",
    "          .build())\n",
    "#corpus.get_term_freq_df().to_csv('term_freqs_kid.csv')\n",
    "#unigram_corpus = corpus.get_unigram_corpus()"
   ]
  },
  {
   "cell_type": "code",
   "execution_count": null,
   "metadata": {},
   "outputs": [],
   "source": [
    "html = st.produce_scattertext_explorer(\n",
    "    corpus,\n",
    "    category='Bolsonaro',\n",
    "    not_categories=['Ciro Gomes'],\n",
    "    minimum_term_frequency=20,\n",
    "    sort_by_dist=False,\n",
    "    term_scorer=st.RankDifference(),\n",
    ")\n",
    "file_name = 'rotten_fresh_st.html'\n",
    "open(file_name, 'wb').write(html.encode('utf-8'))\n",
    "IFrame(src=file_name, width = 1300, height=700)"
   ]
  },
  {
   "cell_type": "markdown",
   "metadata": {},
   "source": [
    "### BOLSONARO VS MARINA"
   ]
  },
  {
   "cell_type": "code",
   "execution_count": null,
   "metadata": {},
   "outputs": [],
   "source": [
    "df3=df[(df.Candidato=='Bolsonaro')|(df.Candidato=='Marina silva')]"
   ]
  },
  {
   "cell_type": "code",
   "execution_count": null,
   "metadata": {},
   "outputs": [],
   "source": [
    "corpus2 = (st.CorpusFromPandas(df3, \n",
    "                              category_col='Candidato', \n",
    "                              text_col='Text_clean',\n",
    "                              nlp = st.whitespace_nlp_with_sentences)\n",
    "          .build())"
   ]
  },
  {
   "cell_type": "code",
   "execution_count": null,
   "metadata": {},
   "outputs": [],
   "source": [
    "html = st.produce_scattertext_explorer(\n",
    "    corpus2,\n",
    "    category='Bolsonaro',\n",
    "    not_categories=['Marina silva'],\n",
    "    minimum_term_frequency=20,\n",
    "    sort_by_dist=False,\n",
    "    term_scorer=st.RankDifference(),\n",
    ")\n",
    "file_name = 'rotten_fresh_st.html'\n",
    "open(file_name, 'wb').write(html.encode('utf-8'))\n",
    "IFrame(src=file_name, width = 1300, height=700)"
   ]
  },
  {
   "cell_type": "markdown",
   "metadata": {},
   "source": [
    "### BOLSONARO VS Alvaro Diaz"
   ]
  },
  {
   "cell_type": "code",
   "execution_count": null,
   "metadata": {},
   "outputs": [],
   "source": [
    "df3=df[(df.Candidato=='Bolsonaro')|(df.Candidato=='Alvaro Dias')]"
   ]
  },
  {
   "cell_type": "code",
   "execution_count": null,
   "metadata": {},
   "outputs": [],
   "source": [
    "corpus2 = (st.CorpusFromPandas(df3, \n",
    "                              category_col='Candidato', \n",
    "                              text_col='Text_clean',\n",
    "                              nlp = st.whitespace_nlp_with_sentences)\n",
    "          .build())"
   ]
  },
  {
   "cell_type": "code",
   "execution_count": null,
   "metadata": {},
   "outputs": [],
   "source": [
    "html = st.produce_scattertext_explorer(\n",
    "    corpus2,\n",
    "    category='Bolsonaro',\n",
    "    not_categories=['Alvaro Dias'],\n",
    "    minimum_term_frequency=20,\n",
    "    sort_by_dist=False,\n",
    "    term_scorer=st.RankDifference(),\n",
    ")\n",
    "file_name = 'rotten_fresh_st.html'\n",
    "open(file_name, 'wb').write(html.encode('utf-8'))\n",
    "IFrame(src=file_name, width = 1300, height=700)"
   ]
  },
  {
   "cell_type": "markdown",
   "metadata": {},
   "source": [
    "### CIRO VS MARINA"
   ]
  },
  {
   "cell_type": "code",
   "execution_count": null,
   "metadata": {},
   "outputs": [],
   "source": [
    "df4=df[(df.Candidato=='Ciro Gomes')|(df.Candidato=='Marina silva')]"
   ]
  },
  {
   "cell_type": "code",
   "execution_count": null,
   "metadata": {},
   "outputs": [],
   "source": [
    "corpus3 = (st.CorpusFromPandas(df4, \n",
    "                              category_col='Candidato', \n",
    "                              text_col='Text_clean',\n",
    "                              nlp = st.whitespace_nlp_with_sentences)\n",
    "          .build())"
   ]
  },
  {
   "cell_type": "code",
   "execution_count": null,
   "metadata": {},
   "outputs": [],
   "source": [
    "corpus3.remove_infrequent_words"
   ]
  },
  {
   "cell_type": "code",
   "execution_count": null,
   "metadata": {},
   "outputs": [],
   "source": [
    "html = st.produce_scattertext_explorer(\n",
    "    corpus3,\n",
    "    category='Ciro Gomes',\n",
    "    not_categories=['Marina silva'],\n",
    "    minimum_term_frequency=20,\n",
    "    sort_by_dist=False,\n",
    "    term_scorer=st.RankDifference(),\n",
    ")\n",
    "file_name = 'rotten_fresh_st.html'\n",
    "open(file_name, 'wb').write(html.encode('utf-8'))\n",
    "IFrame(src=file_name, width = 1300, height=700)"
   ]
  },
  {
   "cell_type": "markdown",
   "metadata": {},
   "source": [
    "### ciro vs alvaro diaz"
   ]
  },
  {
   "cell_type": "code",
   "execution_count": null,
   "metadata": {},
   "outputs": [],
   "source": [
    "df4=df[(df.Candidato=='Ciro Gomes')|(df.Candidato=='Alvaro Dias')]"
   ]
  },
  {
   "cell_type": "code",
   "execution_count": null,
   "metadata": {},
   "outputs": [],
   "source": [
    "corpus3 = (st.CorpusFromPandas(df4, \n",
    "                              category_col='Candidato', \n",
    "                              text_col='Text_clean',\n",
    "                              nlp = st.whitespace_nlp_with_sentences)\n",
    "          .build())"
   ]
  },
  {
   "cell_type": "code",
   "execution_count": null,
   "metadata": {},
   "outputs": [],
   "source": [
    "html = st.produce_scattertext_explorer(\n",
    "    corpus3,\n",
    "    category='Ciro Gomes',\n",
    "    not_categories=['Alvaro Dias'],\n",
    "    minimum_term_frequency=20,\n",
    "    sort_by_dist=False,\n",
    "    term_scorer=st.RankDifference(),\n",
    ")\n",
    "file_name = 'rotten_fresh_st.html'\n",
    "open(file_name, 'wb').write(html.encode('utf-8'))\n",
    "IFrame(src=file_name, width = 1300, height=700)"
   ]
  },
  {
   "cell_type": "markdown",
   "metadata": {},
   "source": [
    "## Gerando n-grams para word2vec analisis"
   ]
  },
  {
   "cell_type": "markdown",
   "metadata": {},
   "source": [
    "#### 2-grams,3-grams,4-grams "
   ]
  },
  {
   "cell_type": "code",
   "execution_count": null,
   "metadata": {},
   "outputs": [],
   "source": [
    "from nltk import ngrams\n",
    "from collections import Counter\n",
    "n = 2\n",
    "grams= ngrams(' '.join(df.Text_clean).split(), n)"
   ]
  },
  {
   "cell_type": "code",
   "execution_count": null,
   "metadata": {},
   "outputs": [],
   "source": [
    "ct=Counter(grams)\n",
    "first_ten_words = ['_'.join(word) for word,cnt in ct.most_common(50)]"
   ]
  },
  {
   "cell_type": "code",
   "execution_count": null,
   "metadata": {},
   "outputs": [],
   "source": [
    "first_ten_words[:10]"
   ]
  },
  {
   "cell_type": "markdown",
   "metadata": {},
   "source": [
    "### Word2vec"
   ]
  },
  {
   "cell_type": "code",
   "execution_count": null,
   "metadata": {},
   "outputs": [],
   "source": [
    "import gensim\n",
    "from sklearn.decomposition import PCA\n",
    "from matplotlib import pyplot\n",
    "doc='/home/kid/Documentos/analisis2018/dynamic-nmf-master-2018/out/w2v-model_setembro3.bin'\n",
    "m1 = gensim.models.Word2Vec.load(doc) "
   ]
  },
  {
   "cell_type": "markdown",
   "metadata": {},
   "source": [
    "#### Sanity Check"
   ]
  },
  {
   "cell_type": "code",
   "execution_count": null,
   "metadata": {},
   "outputs": [],
   "source": [
    "#Pdt + Ciro_gomes – psdb\n",
    "m1.wv.most_similar(positive=['ciro_gomes','psdb'], negative = ['pdt'])[0]"
   ]
  },
  {
   "cell_type": "code",
   "execution_count": null,
   "metadata": {},
   "outputs": [],
   "source": [
    "m1.wv.most_similar(positive=['rede','jair_bolsonaro'], negative = ['marina_silva'])[0]"
   ]
  },
  {
   "cell_type": "code",
   "execution_count": null,
   "metadata": {},
   "outputs": [],
   "source": [
    "m1.wv.most_similar(positive=['pdt','jair_bolsonaro'], negative = ['psl'])[0]"
   ]
  },
  {
   "cell_type": "raw",
   "metadata": {},
   "source": [
    "m1.wv.most_similar(positive=['presidenta','homem'], negative = ['mulher'])[0]"
   ]
  },
  {
   "cell_type": "code",
   "execution_count": null,
   "metadata": {},
   "outputs": [],
   "source": [
    "m1.wv.most_similar(positive=['energia','natural'])"
   ]
  },
  {
   "cell_type": "code",
   "execution_count": null,
   "metadata": {},
   "outputs": [],
   "source": [
    "m1.wv.most_similar(positive=['eólica','sol'],negative = ['ar'])[1]"
   ]
  },
  {
   "cell_type": "code",
   "execution_count": null,
   "metadata": {},
   "outputs": [],
   "source": [
    "m1.wv.most_similar(positive=['direita','ciro_gomes'],negative = ['jair_bolsonaro'])[0]"
   ]
  },
  {
   "cell_type": "code",
   "execution_count": null,
   "metadata": {},
   "outputs": [],
   "source": [
    "m1.wv.most_similar(positive=['esquerda','jair_bolsonaro'],negative = ['ciro_gomes'])[0]"
   ]
  },
  {
   "cell_type": "code",
   "execution_count": null,
   "metadata": {},
   "outputs": [],
   "source": [
    "m1.wv.most_similar(positive=['petrobras','elétrica'],negative = ['petróleo'])"
   ]
  },
  {
   "cell_type": "code",
   "execution_count": null,
   "metadata": {},
   "outputs": [],
   "source": [
    "m1.wv.most_similar(positive=['pobre'],negative = ['bolsa'])"
   ]
  },
  {
   "cell_type": "code",
   "execution_count": null,
   "metadata": {},
   "outputs": [],
   "source": [
    "m1.wv.most_similar(positive=['pobre','bolsa'])"
   ]
  },
  {
   "cell_type": "code",
   "execution_count": null,
   "metadata": {},
   "outputs": [],
   "source": [
    "m1.wv.most_similar(positive=['filhos','avô'],negative = ['pai'])"
   ]
  },
  {
   "cell_type": "raw",
   "metadata": {},
   "source": [
    "m1.wv.most_similar('com')"
   ]
  },
  {
   "cell_type": "code",
   "execution_count": null,
   "metadata": {},
   "outputs": [],
   "source": [
    "from gensim.models import Word2Vec\n",
    "from nltk.cluster import KMeansClusterer\n",
    "import nltk\n",
    "from sklearn import cluster\n",
    "from sklearn import metrics"
   ]
  },
  {
   "cell_type": "code",
   "execution_count": null,
   "metadata": {},
   "outputs": [],
   "source": [
    "X = m1[m1.wv.vocab]\n",
    "NUM_CLUSTERS=30\n",
    "kclusterer = KMeansClusterer(NUM_CLUSTERS, distance=nltk.cluster.util.cosine_distance, repeats=25)\n",
    "assigned_clusters = kclusterer.cluster(X, assign_clusters=True)"
   ]
  },
  {
   "cell_type": "code",
   "execution_count": null,
   "metadata": {},
   "outputs": [],
   "source": [
    "words = list(m1.wv.vocab)\n",
    "for i, j in zip(assigned_clusters,words):\n",
    "    if i==0:\n",
    "        print(j)"
   ]
  },
  {
   "cell_type": "code",
   "execution_count": null,
   "metadata": {},
   "outputs": [],
   "source": [
    "print (assigned_clusters)\n",
    " \n",
    "words = list(m1.wv.vocab)\n",
    "for i, word in enumerate(words):  \n",
    "    print (word + \":\" + str(assigned_clusters[i]))\n",
    "\n",
    "\n",
    "kmeans = cluster.KMeans(n_clusters=NUM_CLUSTERS)\n",
    "kmeans.fit(X)\n",
    " \n",
    "labels = kmeans.labels_\n",
    "centroids = kmeans.cluster_centers_\n",
    " \n",
    "print (\"Cluster id labels for inputted data\")\n",
    "print (labels)\n",
    "print (\"Centroids data\")\n",
    "print (centroids)\n",
    " \n",
    "print (\"Score (Opposite of the value of X on the K-means objective which is Sum of distances of samples to their closest cluster center):\")\n",
    "print (kmeans.score(X))\n",
    " \n",
    "silhouette_score = metrics.silhouette_score(X, labels, metric='euclidean')\n",
    " \n",
    "print (\"Silhouette_score: \")\n",
    "print (silhouette_score)"
   ]
  },
  {
   "cell_type": "code",
   "execution_count": null,
   "metadata": {},
   "outputs": [],
   "source": [
    "from sklearn.manifold import TSNE\n",
    "def display_closestwords_tsnescatterplot(model, word):\n",
    "    \n",
    "    arr = np.empty((0,100), dtype='f')\n",
    "    word_labels = [word]\n",
    "\n",
    "    # get close words\n",
    "    close_words = model.similar_by_word(word,topn=15)\n",
    "    \n",
    "    # add the vector for each of the closest words to the array\n",
    "    arr = np.append(arr, np.array([model.wv[word]]), axis=0)\n",
    "    for wrd_score in close_words:\n",
    "        wrd_vector = model[wrd_score[0]]\n",
    "        word_labels.append(wrd_score[0])\n",
    "        arr = np.append(arr, np.array([wrd_vector]), axis=0)\n",
    "        \n",
    "    # find tsne coords for 2 dimensions\n",
    "    tsne = TSNE(n_components=2, random_state=0)\n",
    "    np.set_printoptions(suppress=True)\n",
    "    Y = tsne.fit_transform(arr)\n",
    "\n",
    "    x_coords = Y[:, 0]\n",
    "    y_coords = Y[:, 1]\n",
    "    # display scatter plot\n",
    "    plt.scatter(x_coords, y_coords)\n",
    "\n",
    "    for label, x, y in zip(word_labels, x_coords, y_coords):\n",
    "        plt.annotate(label, xy=(x, y), xytext=(0, 0), textcoords='offset points')\n",
    "    plt.xlim(x_coords.min()+0.00005, x_coords.max()+0.00005)\n",
    "    plt.ylim(y_coords.min()+0.00005, y_coords.max()+0.00005)\n",
    "    plt.show()"
   ]
  },
  {
   "cell_type": "code",
   "execution_count": null,
   "metadata": {},
   "outputs": [],
   "source": [
    "display_closestwords_tsnescatterplot(m1, 'maconha')"
   ]
  },
  {
   "cell_type": "markdown",
   "metadata": {},
   "source": [
    "# Doc2vec"
   ]
  },
  {
   "cell_type": "code",
   "execution_count": null,
   "metadata": {},
   "outputs": [],
   "source": [
    "from gensim.models.doc2vec import Doc2Vec\n",
    "import matplotlib.pyplot as plt\n",
    "model2 = Doc2Vec.load('./modeloDoc2vec_setembro_premas40')\n",
    "#model2 = Doc2Vec.load('/home/kid/Documentos/analisis2018/modelD2v_set_db0_vs200_300it')\n",
    "labels = list(model2.docvecs.doctags.keys())"
   ]
  },
  {
   "cell_type": "code",
   "execution_count": null,
   "metadata": {},
   "outputs": [],
   "source": [
    "nomesx=['Alva','Bols','Ciro','Gera','Guil','Henr','Joao','Mari']\n",
    "vecs_todo=[]\n",
    "lbs_todo=[]\n",
    "#ncandi=['Mari','Bols','Joao']\n",
    "ncandi=nomesx\n",
    "for la in labels:\n",
    "    if la[0:4] in ncandi:\n",
    "            vecs_todo.append(model2.docvecs[la])\n",
    "            lbs_todo.append(la[0:4])"
   ]
  },
  {
   "cell_type": "code",
   "execution_count": null,
   "metadata": {},
   "outputs": [],
   "source": [
    "len(vecs_todo)"
   ]
  },
  {
   "cell_type": "code",
   "execution_count": null,
   "metadata": {},
   "outputs": [],
   "source": [
    "def set_color(labls):\n",
    "    colorList=[]\n",
    "    for t in labls:\n",
    "        if t[0:4] == 'Bols':\n",
    "            color='r'\n",
    "            colorList.append(color)\n",
    "        if t[0:4] == 'Ciro':\n",
    "            color='b'\n",
    "            colorList.append(color)\n",
    "        if t[0:4] == 'Alva':\n",
    "            color='#9C661F'\n",
    "            colorList.append(color)\n",
    "        if t[0:4] == 'Gera':\n",
    "            color='#7FFF00'\n",
    "            colorList.append(color)\n",
    "        if t[0:4] == 'Guil':\n",
    "            color='#FFB90F'\n",
    "            colorList.append(color)\n",
    "        if t[0:4] == 'Mari':\n",
    "            color='black'\n",
    "            colorList.append(color)\n",
    "        if t[0:4] == 'Henr':\n",
    "            color='violet'\n",
    "            colorList.append(color)\n",
    "        if t[0:4] == 'Joao':\n",
    "            color='aqua'\n",
    "            colorList.append(color)\n",
    "    return colorList    "
   ]
  },
  {
   "cell_type": "code",
   "execution_count": null,
   "metadata": {},
   "outputs": [],
   "source": [
    "lc=set_color(lbs_todo)"
   ]
  },
  {
   "cell_type": "code",
   "execution_count": null,
   "metadata": {},
   "outputs": [],
   "source": [
    "import gensim\n",
    "from sklearn.decomposition import PCA\n",
    "from matplotlib import pyplot\n",
    "import numpy as np\n",
    "import matplotlib.patches as mpatches\n",
    "\n",
    "\n",
    "cads=['Alvaro Dias','Jair Bolsonaro','Ciro Gomes','Geraldo Alckmin','Guilherme Boulos','Henrique Meirelles','João Amoêdo','Marina Silva']\n",
    "mc=['#9C661F','r','b','#7FFF00','#FFB90F','violet','aqua','black']\n",
    "\n",
    "junto=[]\n",
    "for candi, color in zip(cads,mc):\n",
    "    junto.append(mpatches.Patch(color=color, label=candi))\n",
    "print(len(junto))\n",
    "#doc='/home/kid/Documentos/analisis2018/dynamic-nmf-master-2018/out/w2v-model_todo_20_2.bin'\n",
    "#l2 = gensim.models.Word2Vec.load(doc) \n",
    "#X = model2[model2.wv.vocab]\n",
    "pca = PCA(n_components=2)\n",
    "#text_array = np.asarray(docvec, dtype='float')\n",
    "result = pca.fit_transform(vecs_todo) #vecs_grande\n",
    "# create a scatter plot of the projection\n",
    "fig = plt.figure(figsize=(10, 7))\n",
    "pyplot.scatter(result[:, 0], result[:, 1],c=lc)\n",
    "plt.legend(handles=junto,fontsize=8.5,loc=(0.75, 0.67))\n",
    "#pyplot.figure(figsize=(1,1))\n",
    "words = labels #labels doc_weigth\n",
    "#for i, word in enumerate(words):\n",
    "    #pyplot.annotate(word, xy=(result[i, 0], result[i, 1]))\n",
    "pyplot.show()"
   ]
  },
  {
   "cell_type": "code",
   "execution_count": null,
   "metadata": {
    "scrolled": true
   },
   "outputs": [],
   "source": [
    "import matplotlib.pyplot as plt\n",
    "from mpl_toolkits.mplot3d import axes3d, Axes3D\n",
    "import matplotlib.patches as mpatches\n",
    "\n",
    "cads=['Alvaro Dias','Jair Bolsonaro','Ciro Gomes','Geraldo Alckmin','Guilherme Boulos','Henrique Meirelles','João Amoêdo','Marina Silva']\n",
    "mc=['#9C661F','r','b','#7FFF00','#FFB90F','violet','aqua','black']\n",
    "\n",
    "inputVec=vecs_todo #aqui\n",
    "\n",
    "junto=[]\n",
    "for candi, color in zip(cads,mc):\n",
    "    junto.append(mpatches.Patch(color=color, label=candi))\n",
    "print(len(junto))\n",
    "       \n",
    "#lc=set_color(labels) #labels lb_gra sel_lbs\n",
    "pca = PCA(n_components=3)\n",
    "result = pca.fit_transform(inputVec)\n",
    "\n",
    "# Create the figure\n",
    "#%matplotlib notebook\n",
    "\n",
    "fig = plt.figure(figsize=(12, 8))\n",
    "ax = fig.add_subplot(111, projection='3d')\n",
    "plt.legend(handles=junto,fontsize=8,loc=(0.7, 0.56))\n",
    "\n",
    "\n",
    "\n",
    "#plt.figure()\n",
    "# Generate the values\n",
    "ax.scatter(result[:, 0], result[:, 1],result[:, 2],c=lc, s=10)\n",
    "\n",
    "\n",
    "ax.set_xlabel('X-axis')\n",
    "ax.set_ylabel('Y-axis')\n",
    "ax.set_zlabel('Z-axis')\n",
    "\n",
    "#plt.savefig(\"clus3D_original2.jpg\", facecolor=\"w\", dpi=240)\n",
    "plt.show()"
   ]
  },
  {
   "cell_type": "markdown",
   "metadata": {},
   "source": [
    "### Similirade mutua"
   ]
  },
  {
   "cell_type": "code",
   "execution_count": null,
   "metadata": {},
   "outputs": [],
   "source": [
    "def doubleRelation():\n",
    "    labels = list(model2.docvecs.doctags.keys())\n",
    "    candidatos=1\n",
    "    simi_min=0.65\n",
    "    simi_max=1\n",
    "    lx=[]\n",
    "    ly=[]\n",
    "    ln=[]\n",
    "    todo=[]\n",
    "    color_todo=[]\n",
    "    for i in labels:\n",
    "        simi=model2.docvecs.most_similar(i,topn=candidatos)\n",
    "        for x in simi:\n",
    "            x=list(x)\n",
    "            simi_vuelta=model2.docvecs.most_similar(x[0],topn=candidatos)\n",
    "            for y in simi_vuelta:\n",
    "                y=list(y)\n",
    "                if (x[1]>=simi_min and x[1]<=simi_max) and (y[1]>=simi_min and y[1]<=simi_max) and  (i == y[0]):\n",
    "                    if (x[0] not in ly) and (x[0] not in lx):\n",
    "                        ly.append(x[0])\n",
    "                        lx.append(y[0])\n",
    "                        ln.append(round(x[1],2))\n",
    "                        if x[0][0:4] == y[0][0:4]:\n",
    "                            color_todo.append('dodgerblue')\n",
    "                        else:\n",
    "                            color_todo.append('sandybrown')\n",
    "    for f,g,n in zip(lx,ly,ln):\n",
    "        todo.append(('('+f+', '+g+')',n))\n",
    "    return todo, color_todo"
   ]
  },
  {
   "cell_type": "code",
   "execution_count": null,
   "metadata": {},
   "outputs": [],
   "source": [
    "todo,cl=doubleRelation()"
   ]
  },
  {
   "cell_type": "code",
   "execution_count": null,
   "metadata": {},
   "outputs": [],
   "source": [
    "todo"
   ]
  },
  {
   "cell_type": "code",
   "execution_count": null,
   "metadata": {},
   "outputs": [],
   "source": [
    "import numpy as np                                                               \n",
    "import matplotlib.pyplot as plt\n",
    "import matplotlib.patches as mpatches\n",
    "import math\n",
    "def plotChartDouble():\n",
    "    todo,cl=doubleRelation()\n",
    "    top=todo\n",
    "    #print(cl)\n",
    "    #--------------------------------------\n",
    "    #for d in todo:\n",
    "        #print(d)\n",
    "    #--------------------------------------\n",
    "    values=[]\n",
    "    for t in top:\n",
    "        values.append(t[1])\n",
    "    labels, ys = zip(*top)\n",
    "    yss=[0.6,0.7,0.8,0.9,1]\n",
    "    xs = np.arange(len(labels)) \n",
    "    width = 0.7\n",
    "    plt.ylabel('Similaridade')\n",
    "    plt.xlabel('Relacionamento de discurso')\n",
    "    low = min(values)\n",
    "    high = max(values)\n",
    "    plt.ylim([math.ceil(low-0.5*(high-low)), 1])\n",
    "    plt.bar(xs, ys, width, align='center',color=cl)\n",
    "    red_patch = mpatches.Patch(color='dodgerblue', label='Candidatos iguais')\n",
    "    blue_patch = mpatches.Patch(color='sandybrown', label='Candidatos diferentes')\n",
    "    plt.legend(handles=[red_patch,blue_patch])\n",
    "    plt.xticks(xs, labels,rotation=90) #Replace default x-ticks with xs, then replace xs with labels\n",
    "    plt.yticks(yss)\n",
    "    plt.savefig('./doubleSimilarity.jpg', dpi=120)"
   ]
  },
  {
   "cell_type": "code",
   "execution_count": null,
   "metadata": {},
   "outputs": [],
   "source": [
    "plotChartDouble()"
   ]
  },
  {
   "cell_type": "code",
   "execution_count": null,
   "metadata": {},
   "outputs": [],
   "source": [
    "np.random.seed(104)\n",
    "cities = ['New York', 'Boston', 'San Francisco', 'Seattle', 'Los Angeles', 'Chicago']\n",
    "car_sales = pd.DataFrame({\n",
    " 'sales':np.random.randint(1e3,1e4,len(cities)),\n",
    " 'goal':np.random.randint(4e3,8e3,len(cities)),\n",
    " 'sales_last_year':np.random.randint(1e3,1e4,len(cities)),\n",
    "}, index=cities)\n",
    "#ax = car_sales.sales.plot(kind='bar')\n",
    "\n",
    "car_sales_sorted = car_sales.sort_values('sales',ascending=False)\n",
    "#ax = car_sales_sorted.sales.plot(kind='bar',facecolor='#AA0000')\n",
    "#ax.get_yaxis().set_major_formatter(plt.FuncFormatter(lambda x, loc: \"{:,}\".format(int(x))))\n",
    "\n",
    "\n",
    "\n",
    "ax = car_sales_sorted.sales.plot(\n",
    " kind='barh',\n",
    " color=['#AA0000' if row.sales > row.goal else '#000088' for name,row in car_sales_sorted.iterrows()],\n",
    " )\n",
    "\n",
    "percent_of_goal = [\"{}%\".format(int(100.*row.sales/row.goal)) for name,row in car_sales_sorted.iterrows()]\n",
    " \n",
    "for i,child in enumerate(ax.get_children()[:car_sales_sorted.index.size]):\n",
    "    ax.text(child.get_bbox().x1+200,i,percent_of_goal[i], verticalalignment ='center')\n",
    "\n",
    "ax.get_xaxis().set_major_formatter(plt.FuncFormatter(lambda x, loc: \"{:,}\".format(int(x))))\n",
    "ax.patch.set_facecolor('#FFFFFF')\n",
    "ax.spines['bottom'].set_color('#CCCCCC')\n",
    "ax.spines['bottom'].set_linewidth(0)\n",
    "ax.spines['left'].set_color('#CCCCCC')\n",
    "ax.spines['left'].set_linewidth(0)\n",
    "ax.yaxis.set_ticklabels([\n",
    " 'Seattle: City of Fish',\n",
    " 'New York: City of Taxis',\n",
    " 'Los Angeles: City of Stars and Smog',\n",
    " 'Boston: City of Sox',\n",
    " 'Chicago: City of Bean',\n",
    " 'San Francisco: City of Rent'\n",
    " ], fontstyle='italic')#={'weight':'bold'}\n",
    "plt.show()\n"
   ]
  },
  {
   "cell_type": "code",
   "execution_count": null,
   "metadata": {},
   "outputs": [],
   "source": [
    "import matplotlib.pyplot as plt\n",
    "import pandas as pd\n",
    "\n",
    "df = pd.DataFrame({'a':[23, 13, 20, 17, 14, 22],\n",
    "                   'b':[25, 21, 19, 14, 23, 11]},\n",
    "                   index=['bob', 'john', 'paul', 'david', 'michael', 'neil'])\n",
    "\n",
    "a_vals = df.a\n",
    "#b_vals = df.b\n",
    "ind = np.arange(df.shape[0])\n",
    "width = 0.35\n",
    "\n",
    "# Set the colors\n",
    "colors = ['b', 'g', 'r', 'c', 'm', 'y', 'g']\n",
    "\n",
    "\n",
    "def autolabel(bars):\n",
    "    # attach some text labels\n",
    "    for bar in bars:\n",
    "        width = bar.get_width()\n",
    "        ax.text(width*0.95, bar.get_y() + bar.get_height()/2,\n",
    "                '%d' % int(width),\n",
    "                ha='right', va='center')\n",
    "\n",
    "# make the plots\n",
    "fig, ax = plt.subplots()\n",
    "a = ax.barh(ind, a_vals, width, color = colors) # plot a vals\n",
    "#b = ax.barh(ind + width, b_vals, width, color = colors, alpha=0.5)  # plot b vals\n",
    "ax.set_yticks(ind)  # position axis ticks\n",
    "ax.set_yticklabels(df.index)  # set them to the names\n",
    "#ax.legend(a[0], 'a', loc='center right')\n",
    "\n",
    "autolabel(a)\n",
    "autolabel(b)\n",
    "\n",
    "plt.show()"
   ]
  },
  {
   "cell_type": "code",
   "execution_count": null,
   "metadata": {},
   "outputs": [],
   "source": []
  },
  {
   "cell_type": "markdown",
   "metadata": {},
   "source": [
    "### similirade entre candidatos"
   ]
  },
  {
   "cell_type": "code",
   "execution_count": null,
   "metadata": {},
   "outputs": [],
   "source": [
    "from operator import itemgetter\n",
    "from collections import Counter\n",
    "def similarity_candidates():\n",
    "    #Preparando dados\n",
    "    labels = list(model2.docvecs.doctags.keys())\n",
    "    nomes=[]\n",
    "    for t in labels:\n",
    "        nomes.append(t[0:4])\n",
    "    ct=Counter(nomes)\n",
    "    indices = sorted(ct, key=itemgetter(0))\n",
    "    datos = sorted(labels, key=itemgetter(0,1,2))\n",
    "    indices=['Alva','Bols','Ciro','Gera','Guil','Henr','Joao','Mari']\n",
    "    #formando duplas para comparacion\n",
    "    todo=[]\n",
    "    fm='out'\n",
    "    for ixd in indices:\n",
    "        tmp=[]\n",
    "        otros=[]\n",
    "        for doc_i in datos:\n",
    "            if ixd==doc_i[0:4]:\n",
    "                #if doc_i[5:8]==fm:\n",
    "                tmp.append(doc_i)\n",
    "            else:\n",
    "                # doc_i[5:8]==fm:\n",
    "                otros.append(doc_i)\n",
    "        ls=[]\n",
    "        for t in tmp:\n",
    "            for o in otros:\n",
    "                ls.append(t+' '+o)\n",
    "        todo.append(ls)\n",
    "    #print(todo)    \n",
    "    #calculando similaridad\n",
    "    for lista in todo:\n",
    "        for xd in indices:\n",
    "            suma=0\n",
    "            di=0\n",
    "            mostrar=''\n",
    "            for elem in lista:\n",
    "                if xd == elem.split()[1][0:4]:\n",
    "                    can=elem.split()\n",
    "                    simi=model2.docvecs.similarity(can[0],can[1])\n",
    "                    if simi>0.0:\n",
    "                        mostrar=can[0][0:4]+' -> '+can[1][0:4]\n",
    "                        suma=suma+simi\n",
    "                        di=di+1\n",
    "            if suma>0 and di>0:\n",
    "                print('Similaridad: '+mostrar+' = '+str(round(suma/di,3))+' com: '+str(di))\n",
    "        #print('-------------------------------------------------------------------------')\n",
    "        print('*****************************************************************************')"
   ]
  },
  {
   "cell_type": "code",
   "execution_count": null,
   "metadata": {},
   "outputs": [],
   "source": [
    "similarity_candidates()"
   ]
  },
  {
   "cell_type": "markdown",
   "metadata": {},
   "source": [
    "### Grafico similitud entre candidatos media"
   ]
  },
  {
   "cell_type": "raw",
   "metadata": {},
   "source": [
    "from operator import itemgetter\n",
    "from collections import Counter\n",
    "plotk=[]\n",
    "def similarity_candidates_plot():\n",
    "    #Preparando dados\n",
    "    labels = list(model2.docvecs.doctags.keys())\n",
    "    nomes=[]\n",
    "    \n",
    "    for t in labels:\n",
    "        nomes.append(t[0:4])\n",
    "    ct=Counter(nomes)\n",
    "    indices = sorted(ct, key=itemgetter(0))\n",
    "    datos = sorted(labels, key=itemgetter(0,1,2))\n",
    "    indices=['Alva','Bols','Ciro','Gera','Guil','Henr','Joao','Mari']\n",
    "    #formando duplas para comparacion\n",
    "    todo=[]\n",
    "    fm='out'\n",
    "    for ixd in indices:\n",
    "        tmp=[]\n",
    "        otros=[]\n",
    "        for doc_i in datos:\n",
    "            if ixd==doc_i[0:4]:\n",
    "                #if doc_i[5:8]==fm:\n",
    "                tmp.append(doc_i)\n",
    "            else:\n",
    "                # doc_i[5:8]==fm:\n",
    "                otros.append(doc_i)\n",
    "        ls=[]\n",
    "        for t in tmp:\n",
    "            for o in otros:\n",
    "                ls.append(t+' '+o)\n",
    "        todo.append(ls)\n",
    "    #print(todo)    \n",
    "    #calculando similaridad\n",
    "    \n",
    "    for lista in todo:\n",
    "        for xd in indices:\n",
    "            suma=0\n",
    "            di=0\n",
    "            mostrar=''\n",
    "            for elem in lista:\n",
    "                if xd == elem.split()[1][0:4]:\n",
    "                    can=elem.split()\n",
    "                    simi=model2.docvecs.similarity(can[0],can[1])\n",
    "                    if simi>0.0:\n",
    "                        mostrar=[can[0][0:4],can[1][0:4]]\n",
    "                        suma=suma+simi\n",
    "                        di=di+1\n",
    "            if suma>0 and di>0:\n",
    "                #print('Similaridad: '+mostrar+' = '+str(round(suma/di,3))+' com: '+str(di))\n",
    "                #print(mostrar)\n",
    "                #print(str(round(suma/di,3)))\n",
    "                plotk.append((mostrar[0],mostrar[1],round(1-suma/di,5)))\n",
    "        #print('-------------------------------------------------------------------------')\n",
    "        print('*****************************************************************************')"
   ]
  },
  {
   "cell_type": "raw",
   "metadata": {},
   "source": [
    "similarity_candidates_plot()"
   ]
  },
  {
   "cell_type": "raw",
   "metadata": {},
   "source": [
    "plotk"
   ]
  },
  {
   "cell_type": "code",
   "execution_count": null,
   "metadata": {},
   "outputs": [],
   "source": [
    "indices=['Alva','Bols','Ciro','Gera','Guil','Henr','Joao','Mari']\n",
    "este=indices[0]\n",
    "todo=[]\n",
    "for ix in indices:\n",
    "    mini=1\n",
    "    for u in plotk:\n",
    "        if u[0]==ix and u[2]<mini:\n",
    "            mini=u[2]\n",
    "            este=u\n",
    "    todo.append(este)"
   ]
  },
  {
   "cell_type": "code",
   "execution_count": null,
   "metadata": {},
   "outputs": [],
   "source": [
    "todo"
   ]
  },
  {
   "cell_type": "code",
   "execution_count": null,
   "metadata": {},
   "outputs": [],
   "source": [
    "drawing_graph(todo,True)"
   ]
  },
  {
   "cell_type": "markdown",
   "metadata": {},
   "source": [
    "### Constantes discursos"
   ]
  },
  {
   "cell_type": "code",
   "execution_count": null,
   "metadata": {},
   "outputs": [],
   "source": [
    "import networkx as nx"
   ]
  },
  {
   "cell_type": "code",
   "execution_count": null,
   "metadata": {},
   "outputs": [],
   "source": [
    "def drawing_graph(tuples,etiqueta):\n",
    "    G=nx.DiGraph()\n",
    "    G.add_weighted_edges_from(tuples)\n",
    "    plt.figure(figsize=(12, 12))\n",
    "    pos = nx.spring_layout(G)\n",
    "    nx.draw_networkx_nodes(G, pos, cmap=plt.get_cmap('jet'), node_color = 'b', node_size = 70)\n",
    "    nx.draw_networkx_labels(G, pos,font_size=10,font_color='red')\n",
    "    nx.draw_networkx_edges(G, pos, edge_color='black')\n",
    "    simi = nx.get_edge_attributes(G,'weight')\n",
    "    if etiqueta: \n",
    "        nx.draw_networkx_edge_labels(G, pos, edge_color='black',edge_labels=simi, arrowss=True,font_size=6)\n",
    "    #nx.draw_networkx_edges(G, pos, arrows=True)\n",
    "    plt.savefig(\"graph_dependence.png\", facecolor=\"w\", dpi=120)\n",
    "    plt.show()\n",
    "    \n",
    "def sortLabels():\n",
    "    mes=['ant','out','nov','dez','jan','fev','mar','abr','mai','jun','jul','ago','set']\n",
    "    #mes.reverse()\n",
    "    labels = list(model2.docvecs.doctags.keys())\n",
    "    sorterData=[]\n",
    "    for m in mes:\n",
    "        for la in labels:\n",
    "            if m==la[5:8]:\n",
    "                 sorterData.append(la)\n",
    "    return sorterData\n",
    "\n",
    "def concurrent_recu(topp,nom):\n",
    "    mes=['ant','out','nov','dez','jan','fev','mar','abr','mai','jun','jul','ago','set']\n",
    "    #mes.reverse()\n",
    "    datos=sortLabels()\n",
    "    tuples_todo=[]\n",
    "    nomb=nom\n",
    "    i=0\n",
    "    for d in datos:        \n",
    "        if d[0:4]==nomb:\n",
    "            parar=False\n",
    "            while parar==False:\n",
    "                simi=model2.docvecs.most_similar(d,topn=topp)\n",
    "                for si in simi:\n",
    "                    if si[0][0:4]==nomb and mes.index(d[5:8])+1== mes.index(si[0][5:8]) and si[1]>0.55: \n",
    "                        tuples_todo.append((d,si[0],round(si[1], 2)))\n",
    "                        if si is datos:\n",
    "                            datos.remove(si[0])\n",
    "                        d=si[0]\n",
    "                        parar=False\n",
    "                        break\n",
    "                    else:\n",
    "                        parar=True           \n",
    "    return tuples_todo"
   ]
  },
  {
   "cell_type": "code",
   "execution_count": null,
   "metadata": {},
   "outputs": [],
   "source": [
    "drawing_graph(concurrent_recu(20,'Guil'),True)"
   ]
  },
  {
   "cell_type": "markdown",
   "metadata": {},
   "source": [
    "### Coherencia de discursos"
   ]
  },
  {
   "cell_type": "code",
   "execution_count": null,
   "metadata": {},
   "outputs": [],
   "source": [
    "from operator import itemgetter\n",
    "from collections import Counter\n",
    "def similarity_work():\n",
    "    #Preparando dados\n",
    "    mes=['ant','out','nov','dez','jan','fev','mar','abr','mai','jun','jul','ago','set']\n",
    "    labels = list(model2.docvecs.doctags.keys())\n",
    "    nomes=[]\n",
    "    for t in labels:\n",
    "        nomes.append(t[0:4])\n",
    "    ct=Counter(nomes)\n",
    "    indices = sorted(ct, key=itemgetter(0))\n",
    "    datos = sorted(labels, key=itemgetter(0,1,2))\n",
    "    \n",
    "    todo=[]\n",
    "    for x in indices:\n",
    "        candi=[]\n",
    "        for y in datos:\n",
    "            if x==y[0:4]:\n",
    "                candi.append(y)\n",
    "        todo.append(candi)\n",
    "    #print(todo)\n",
    "    todo_data=[]\n",
    "    name_data=[]\n",
    "    mm=''\n",
    "    for t in todo: # lista de candidatos\n",
    "        #print(t)\n",
    "        anames=[]\n",
    "        for v in mes:\n",
    "            suma=0\n",
    "            div=0\n",
    "            mos=''            \n",
    "            for term_i in t:\n",
    "                for term_j in t:\n",
    "                    if term_j != term_i and (term_i[5:8] == v and term_j[5:8] == v): #geral ou pelo mes                   \n",
    "                        simi=model2.docvecs.similarity(term_i,term_j)\n",
    "                        suma=suma+simi\n",
    "                        div=div+1\n",
    "                        mos=term_i\n",
    "            if suma>0 and div>0:\n",
    "                anames.append((mos[5:8],round(float(suma/div),3)))\n",
    "                mm=mos[0:4]\n",
    "                #print(mos[0:8]+' '+str(round(float(suma/div),3))+' div: '+str(div))\n",
    "        todo_data.append(anames)\n",
    "        name_data.append(mm)\n",
    "        #print('*****************************************************************************')\n",
    "    return todo_data, name_data"
   ]
  },
  {
   "cell_type": "code",
   "execution_count": null,
   "metadata": {},
   "outputs": [],
   "source": [
    "cd=['Bols', 'Ciro', 'Gera', 'Mari','Joao','Guil','Alva','Henr']\n",
    "kx=['ant','out','nov','dez','jan','fev','mar','abr','mai','jun','jul','ago','set']\n",
    "ce=[0,0,0,0,0,0,0,0,0,0,0,0,0]\n",
    "kd, nm =similarity_work()\n",
    "y=[]\n",
    "x=[]\n",
    "#y.append(0.5)\n",
    "#x.append('ant')\n",
    "plt.figure(figsize=(10, 7))\n",
    "plt.plot(kx,ce , \"_\")\n",
    "for li,n in zip(kd,nm):\n",
    "    if n in cd:\n",
    "        #print(li)\n",
    "        for i in li:\n",
    "            y.append(i[1])\n",
    "            x.append(i[0])\n",
    "            #print(i[0])\n",
    "\n",
    "        #print('---------')\n",
    "        \n",
    "        plt.plot(x, y, \".-\", label=n)\n",
    "        #plt.xticks(kx, rotation=60)\n",
    "        plt.ylabel(\"Coerência\")\n",
    "        plt.xlabel('Periodos do tempo')\n",
    "        y=[]\n",
    "        x=[]\n",
    "plt.legend(loc=(.02, .02), prop={'size':12})\n",
    "plt.savefig('./sss.jpg', dpi=120)"
   ]
  },
  {
   "cell_type": "markdown",
   "metadata": {},
   "source": [
    "### Tfidf vectoriser"
   ]
  },
  {
   "cell_type": "raw",
   "metadata": {},
   "source": [
    "df=pd.read_pickle('./pandas_data_candidatos__premas.pd')"
   ]
  },
  {
   "cell_type": "code",
   "execution_count": null,
   "metadata": {},
   "outputs": [],
   "source": [
    "from sklearn.feature_extraction.text import TfidfVectorizer\n",
    "tfidf = TfidfVectorizer(use_idf=True, norm=None, ngram_range=(1, 1)) \n",
    "#X = tfidf.fit_transform(te)\n",
    "matrix = tfidf.fit_transform(df.Text_clean).toarray()\n",
    "vectors=list(matrix)\n",
    "print(len(vectors))"
   ]
  },
  {
   "cell_type": "code",
   "execution_count": null,
   "metadata": {},
   "outputs": [],
   "source": [
    "labels=[x[0:4] for x in df.Candidato]"
   ]
  },
  {
   "cell_type": "code",
   "execution_count": null,
   "metadata": {},
   "outputs": [],
   "source": [
    "nomesx=['Alvaro Dias','Jair Bolsonaro','Ciro Gomes','Geraldo Alckmin','Guilherme Boulos','Henrique Meirelles','João Amoêdo','Marina Silva']\n",
    "ncandi=['Bols', 'Ciro', 'Gera', 'Mari','Joao','Guil','Alva','Henr']\n",
    "vecs_todo=[]\n",
    "lbs_todo=[]\n",
    "#ncandi=['Mari','Bols','Joao']\n",
    "#ncandi=nomesx\n",
    "for la, ve in zip(labels,vectors):\n",
    "    if la in ncandi:\n",
    "            vecs_todo.append(ve)\n",
    "            lbs_todo.append(la)"
   ]
  },
  {
   "cell_type": "raw",
   "metadata": {},
   "source": [
    "lbs_todo"
   ]
  },
  {
   "cell_type": "code",
   "execution_count": null,
   "metadata": {},
   "outputs": [],
   "source": [
    "lc=set_color(lbs_todo)"
   ]
  },
  {
   "cell_type": "code",
   "execution_count": null,
   "metadata": {},
   "outputs": [],
   "source": [
    "len(lc)"
   ]
  },
  {
   "cell_type": "code",
   "execution_count": null,
   "metadata": {},
   "outputs": [],
   "source": [
    "import numpy as np                                                               \n",
    "import matplotlib.pyplot as plt\n",
    "import matplotlib.patches as mpatches\n",
    "import math\n",
    "import gensim\n",
    "from sklearn.decomposition import PCA\n",
    "from matplotlib import pyplot"
   ]
  },
  {
   "cell_type": "code",
   "execution_count": null,
   "metadata": {},
   "outputs": [],
   "source": [
    "cads=['Alvaro Dias','Jair Bolsonaro','Ciro Gomes','Geraldo Alckmin','Guilherme Boulos','Henrique Meirelles','João Amoêdo','Marina Silva']\n",
    "mc=['#9C661F','r','b','#7FFF00','#FFB90F','violet','aqua','black']\n",
    "\n",
    "junto=[]\n",
    "for candi, color in zip(cads,mc):\n",
    "    junto.append(mpatches.Patch(color=color, label=candi))\n",
    "print(len(junto))\n",
    "\n",
    "pca = PCA(n_components=2)\n",
    "#text_array = np.asarray(docvec, dtype='float')\n",
    "result = pca.fit_transform(vecs_todo) #vecs_grande\n",
    "# create a scatter plot of the projection\n",
    "fig = plt.figure(figsize=(10, 7))\n",
    "pyplot.scatter(result[:, 0], result[:, 1],c=lc)\n",
    "plt.legend(handles=junto,fontsize=8.5,loc=(0.025, 0.65))\n",
    "#pyplot.figure(figsize=(1,1))\n",
    "words = labels #labels doc_weigth\n",
    "#for i, word in enumerate(words):\n",
    "    #pyplot.annotate(word, xy=(result[i, 0], result[i, 1]))\n",
    "#plt.legend()\n",
    "pyplot.show()"
   ]
  },
  {
   "cell_type": "code",
   "execution_count": null,
   "metadata": {},
   "outputs": [],
   "source": [
    "from mpl_toolkits.mplot3d import Axes3D"
   ]
  },
  {
   "cell_type": "code",
   "execution_count": null,
   "metadata": {},
   "outputs": [],
   "source": [
    "#cads=['Alva','Bols','Ciro','Gera','Guil','Henr','Joao','Mari']\n",
    "mc=['#9C661F','r','b','#7FFF00','#FFB90F','violet','aqua','black']\n",
    "\n",
    "inputVec=vecs_todo #aqui\n",
    "\n",
    "junto=[]\n",
    "for candi, color in zip(cads,mc):\n",
    "    junto.append(mpatches.Patch(color=color, label=candi))\n",
    "print(len(junto))\n",
    "       \n",
    "#lc=set_color(labels) #labels lb_gra sel_lbs\n",
    "pca = PCA(n_components=3)\n",
    "result = pca.fit_transform(inputVec)\n",
    "\n",
    "# Create the figure\n",
    "%matplotlib notebook\n",
    "\n",
    "fig = plt.figure(figsize=(12, 8))\n",
    "ax = fig.add_subplot(111, projection='3d')\n",
    "plt.legend(handles=junto,fontsize=8,loc=(0.7, 0.56))\n",
    "\n",
    "\n",
    "\n",
    "#plt.figure()\n",
    "# Generate the values\n",
    "ax.scatter(result[:, 0], result[:, 1],result[:, 2],c=lc, s=10)\n",
    "\n",
    "\n",
    "ax.set_xlabel('X-axis')\n",
    "ax.set_ylabel('Y-axis')\n",
    "ax.set_zlabel('Z-axis')\n",
    "\n",
    "#plt.savefig(\"clus3D_original2.jpg\", facecolor=\"w\", dpi=240)\n",
    "plt.show()"
   ]
  },
  {
   "cell_type": "code",
   "execution_count": null,
   "metadata": {},
   "outputs": [],
   "source": [
    "from operator import itemgetter\n",
    "from sklearn.metrics.pairwise import cosine_similarity\n",
    "from collections import Counter\n",
    "import operator\n",
    "labels=df.abreviatura\n",
    "dict_labels = dict(zip(labels, vectors))\n",
    "print(len(dict_labels))\n",
    "nomes=[]\n",
    "for t in labels:\n",
    "    nomes.append(t[0:4])\n",
    "ct=Counter(nomes)\n",
    "indices = sorted(ct, key=itemgetter(0))\n",
    "datos = sorted(dict_labels.items(),key = operator.itemgetter(0),reverse = False)\n",
    "#datos = sorted(dict_labels.items(), key=itemgetter(0,1,2))\n",
    "todo=[]\n",
    "for ixd in indices:\n",
    "    tmp=[]\n",
    "    otros=[]\n",
    "    for doc_i in datos:\n",
    "        if ixd==doc_i[0][0:4]:\n",
    "            tmp.append(doc_i)\n",
    "        else:\n",
    "            otros.append(doc_i)\n",
    "    #print(tmp)\n",
    "    ls=[]\n",
    "    for t in tmp:\n",
    "        for o in otros:\n",
    "            ls.append((t,o))\n",
    "    todo.append(ls)\n",
    "for lista in todo:\n",
    "    for xd in indices:\n",
    "        suma=0\n",
    "        di=0\n",
    "        mostrar=''\n",
    "        for elem in lista:\n",
    "            a=elem[0]\n",
    "            b=elem[1]\n",
    "            if xd == b[0][0:4]: #e\n",
    "                #print((a[1]))\n",
    "                simi=cosine_similarity(a[1].reshape(1, -1),b[1].reshape(1, -1))\n",
    "                #print(simi[0][0])\n",
    "                mostrar=a[0][0:4]+' -> '+b[0][0:4]\n",
    "                suma=suma+simi[0][0]\n",
    "                di=di+1\n",
    "        if suma>0 and di>0:\n",
    "            print('Similaridad: '+mostrar+' = '+str(round(suma/di,3))+' con: '+str(di))\n",
    "        #print('-------------------------------------------------------------------------')\n",
    "    print('*****************************************************************************')"
   ]
  },
  {
   "cell_type": "markdown",
   "metadata": {},
   "source": [
    "## Clustering"
   ]
  },
  {
   "cell_type": "markdown",
   "metadata": {},
   "source": [
    "## Usando vectores IDTIF"
   ]
  },
  {
   "cell_type": "code",
   "execution_count": null,
   "metadata": {},
   "outputs": [],
   "source": [
    "content,labels = get_doc2('/home/kid/Documentos/analisis2018/dynamic-nmf-master-2018/data/sample_valido/')\n",
    "tfidf = TfidfVectorizer(use_idf=False, norm=None, ngram_range=(1, 1)) \n",
    "matrix = tfidf.fit_transform(content).toarray()\n",
    "vectors=list(matrix)\n",
    "\t#otra cosa\n",
    "\tnmf = NMF(n_components=k, \n",
    "\t\t\t\t\t\t  random_state=100).fit_transform(vectors)\n",
    "\tdef find_max_index(li):\n",
    "\t\tm = max(li)\n",
    "\t\tif li.count(m) >1:\n",
    "\t\t\treturn -99\n",
    "\t\telse:\n",
    "\t\t\treturn li.index(m)\n",
    "\n",
    "\tdoc_topic_dist_unnormalized = np.matrix(nmf)\n",
    "\tdoc_topic_dist_unnormalized = [x.tolist()[0] for x in doc_topic_dist_unnormalized]\n",
    "\t#ref = list(zip(doc_topic_dist_unnormalized, list(content),labels))#OJO ORDEN\n",
    "\tnmf_cls=[]\n",
    "\tfor t in doc_topic_dist_unnormalized:\n",
    "\t\tnmf_cls.append(find_max_index(t))\n",
    "\t\t\n",
    "\treturn nmf_cls,labels,content\n"
   ]
  },
  {
   "cell_type": "code",
   "execution_count": null,
   "metadata": {},
   "outputs": [],
   "source": [
    "from gensim.models.doc2vec import Doc2Vec\n",
    "model2 = Doc2Vec.load('./modeloDoc2vec_agosto')\n",
    "labels = list(model2.docvecs.doctags.keys())"
   ]
  },
  {
   "cell_type": "code",
   "execution_count": null,
   "metadata": {},
   "outputs": [],
   "source": [
    "vecs_todo=[]\n",
    "lbs_todo=[]\n",
    "for la in labels:\n",
    "    vecs_todo.append(model2.docvecs[la])\n",
    "    lbs_todo.append(la[0:4])"
   ]
  },
  {
   "cell_type": "code",
   "execution_count": null,
   "metadata": {},
   "outputs": [],
   "source": [
    "len(vecs_todo)"
   ]
  },
  {
   "cell_type": "code",
   "execution_count": null,
   "metadata": {},
   "outputs": [],
   "source": [
    "numk=30"
   ]
  },
  {
   "cell_type": "code",
   "execution_count": null,
   "metadata": {},
   "outputs": [],
   "source": [
    "from sklearn.decomposition import NMF\n",
    "from sklearn.preprocessing import MinMaxScaler\n",
    "scaler = MinMaxScaler()\n",
    "nmf = NMF(n_components=numk, \n",
    "                      random_state=100).fit_transform(scaler.fit_transform(vecs_todo))\n",
    "def find_max_index(li):\n",
    "    m = max(li)\n",
    "    if li.count(m) >1:\n",
    "        return -99\n",
    "    else:\n",
    "        return li.index(m)"
   ]
  },
  {
   "cell_type": "code",
   "execution_count": null,
   "metadata": {},
   "outputs": [],
   "source": [
    "import numpy as np\n",
    "import pandas as pd    \n",
    "doc_topic_dist_unnormalized = np.matrix(nmf)\n",
    "#print(str(len(doc_topic_dist_unnormalized)))\n",
    "doc_topic_dist_unnormalized = [x.tolist()[0] for x in doc_topic_dist_unnormalized]\n",
    "#print(str(len(doc_topic_dist_unnormalized[0])))\n",
    "ref = list(zip(doc_topic_dist_unnormalized,labels))#OJO ORDEN\n",
    "df2 = pd.DataFrame(ref)\n",
    "df2.columns =[\"nmf\",\"etiq\"]\n",
    "df2[\"cluster_no\"] = df2[\"nmf\"].apply(lambda x : find_max_index(x))"
   ]
  },
  {
   "cell_type": "code",
   "execution_count": null,
   "metadata": {},
   "outputs": [],
   "source": [
    "a=df2.groupby(\"cluster_no\")[\"nmf\"].count()"
   ]
  },
  {
   "cell_type": "code",
   "execution_count": null,
   "metadata": {},
   "outputs": [],
   "source": [
    "a"
   ]
  },
  {
   "cell_type": "code",
   "execution_count": null,
   "metadata": {},
   "outputs": [],
   "source": [
    "for n,l in zip(df2[\"cluster_no\"],labels):\n",
    "    if n==6:\n",
    "        print(str(n)+' '+l)"
   ]
  },
  {
   "cell_type": "markdown",
   "metadata": {},
   "source": [
    "### LDA model"
   ]
  },
  {
   "cell_type": "markdown",
   "metadata": {},
   "source": [
    "df=pd.read_pickle('./pandas_data_candidatos.pd')"
   ]
  },
  {
   "cell_type": "raw",
   "metadata": {},
   "source": [
    "from nltk.tokenize import RegexpTokenizer\n",
    "import re\n",
    "def clean_data(text):\n",
    "    tokenizer = RegexpTokenizer(r'\\w+')\n",
    "    en_stop = pd.read_csv(\"stopwords_portu.txt\", sep=\"\\t\").a.values.tolist()\n",
    "    raw = text.lower()\n",
    "    tokens = tokenizer.tokenize(raw)\n",
    "    stopped_tokens = [i for i in tokens if not i in en_stop]\n",
    "    number_tokens = [re.sub(r'[\\d]', '', i) for i in stopped_tokens]\n",
    "    length_tokens = ' '.join([i for i in number_tokens if len(i) > 2])\n",
    "    return length_tokens"
   ]
  },
  {
   "cell_type": "raw",
   "metadata": {},
   "source": [
    "df.Text_clean=df.Text_clean.apply(lambda x: clean_data(x))"
   ]
  },
  {
   "cell_type": "raw",
   "metadata": {},
   "source": [
    "df.to_pickle('./pandas_data_candidatos_lda.pd')"
   ]
  },
  {
   "cell_type": "markdown",
   "metadata": {},
   "source": [
    "## Built lda model puro"
   ]
  },
  {
   "cell_type": "code",
   "execution_count": null,
   "metadata": {},
   "outputs": [],
   "source": [
    "import pandas as pd\n",
    "df=pd.read_pickle('./pandas_data_candidatos__premas.pd')\n",
    "\n",
    "texts=[]\n",
    "for a in df.Text_clean:\n",
    "    texts.append(a.split())\n",
    "    \n",
    "dictionary = corpora.Dictionary(texts)\n",
    "corpus = [dictionary.doc2bow(text) for text in texts]\n"
   ]
  },
  {
   "cell_type": "code",
   "execution_count": null,
   "metadata": {},
   "outputs": [],
   "source": [
    "ldamodel = gensim.models.ldamodel.LdaModel(corpus, num_topics=40, id2word = dictionary, passes=40)"
   ]
  },
  {
   "cell_type": "code",
   "execution_count": null,
   "metadata": {},
   "outputs": [],
   "source": [
    "ldamodel.print_topics(num_topics=40 ,num_words=10)"
   ]
  },
  {
   "cell_type": "code",
   "execution_count": null,
   "metadata": {},
   "outputs": [],
   "source": [
    "#dictionary.save('./lda_models/candidatos45.dict')\n",
    "ldamodel.save('./lda_models/lda_model_precandi_40')"
   ]
  },
  {
   "cell_type": "raw",
   "metadata": {},
   "source": [
    "ldamodel.state.get_lambda()[0][:100]"
   ]
  },
  {
   "cell_type": "raw",
   "metadata": {},
   "source": [
    "from gensim.models import CoherenceModel\n",
    "# Compute Perplexity\n",
    "print('\\nPerplexity: ', ldamodel.log_perplexity(corpus))  # a measure of how good the model is. lower the better.\n",
    "# Compute Coherence Score\n",
    "coherence_model_lda = CoherenceModel(model=ldamodel, texts=texts, dictionary=dictionary, coherence='c_v')\n",
    "coherence_lda = coherence_model_lda.get_coherence()\n",
    "print('\\nCoherence Score: ', coherence_lda)"
   ]
  },
  {
   "cell_type": "code",
   "execution_count": null,
   "metadata": {},
   "outputs": [],
   "source": [
    "from gensim.models import CoherenceModel\n",
    "k=[]\n",
    "def compute_coherence_values(dictionary, corpus, texts, limit, start, step=1):\n",
    "    coherence_values = []\n",
    "    model_list = []\n",
    "    for num_topics in range(start, limit, step):\n",
    "        k.append(str(num_topics))\n",
    "        model = gensim.models.ldamodel.LdaModel(corpus, num_topics=num_topics, id2word = dictionary, passes=50)\n",
    "        print('Terminado model k= '+str(num_topics))\n",
    "        model_list.append(model)\n",
    "        coherencemodel = CoherenceModel(model=model, texts=texts, dictionary=dictionary, coherence='c_v')\n",
    "        coherence_values.append(coherencemodel.get_coherence())\n",
    "\n",
    "    return model_list, coherence_values"
   ]
  },
  {
   "cell_type": "code",
   "execution_count": null,
   "metadata": {},
   "outputs": [],
   "source": [
    "model_list, coherence_values = compute_coherence_values(dictionary, corpus, texts, start=7, limit=50, step=3)"
   ]
  },
  {
   "cell_type": "code",
   "execution_count": null,
   "metadata": {},
   "outputs": [],
   "source": [
    "coherence_values"
   ]
  },
  {
   "cell_type": "code",
   "execution_count": null,
   "metadata": {},
   "outputs": [],
   "source": [
    "import matplotlib.pyplot as plt\n",
    "start=7; limit=50; step=3;\n",
    "x = range(start, limit, step)\n",
    "plt.plot(x, coherence_values)\n",
    "plt.xlabel(\"Num Topics\")\n",
    "plt.ylabel(\"Coherence score\")\n",
    "plt.legend((\"coherence_values\"), loc='best')\n",
    "plt.show()"
   ]
  },
  {
   "cell_type": "code",
   "execution_count": null,
   "metadata": {},
   "outputs": [],
   "source": [
    "model_list[10].print_topics(num_topics=100 ,num_words=10)"
   ]
  },
  {
   "cell_type": "code",
   "execution_count": null,
   "metadata": {},
   "outputs": [],
   "source": []
  },
  {
   "cell_type": "code",
   "execution_count": null,
   "metadata": {},
   "outputs": [],
   "source": []
  },
  {
   "cell_type": "code",
   "execution_count": null,
   "metadata": {},
   "outputs": [],
   "source": [
    "coherence_values"
   ]
  },
  {
   "cell_type": "markdown",
   "metadata": {},
   "source": [
    "## no borrar 7-40-3 pass 30"
   ]
  },
  {
   "cell_type": "code",
   "execution_count": null,
   "metadata": {},
   "outputs": [],
   "source": [
    "import matplotlib.pyplot as plt\n",
    "start=10; limit=50; step=3;\n",
    "x = range(start, limit, step)\n",
    "plt.plot(x, coherence_values)\n",
    "plt.xlabel(\"Num Topics\")\n",
    "plt.ylabel(\"Coherence score\")\n",
    "plt.legend((\"coherence_values\"), loc='best')\n",
    "plt.show()"
   ]
  },
  {
   "cell_type": "markdown",
   "metadata": {},
   "source": [
    "## no borrar 10-20-1 pass 30"
   ]
  },
  {
   "cell_type": "code",
   "execution_count": null,
   "metadata": {},
   "outputs": [],
   "source": [
    "import matplotlib.pyplot as plt\n",
    "start=10; limit=21; step=1;\n",
    "x = range(start, limit, step)\n",
    "plt.plot(x, coherence_values)\n",
    "plt.xlabel(\"Num Topics\")\n",
    "plt.ylabel(\"Coherence score\")\n",
    "plt.legend((\"coherence_values\"), loc='best')\n",
    "plt.show()"
   ]
  },
  {
   "cell_type": "raw",
   "metadata": {},
   "source": [
    "k=[7,10,13,16,19,22,25,28,31,34,37]"
   ]
  },
  {
   "cell_type": "code",
   "execution_count": null,
   "metadata": {},
   "outputs": [],
   "source": [
    "for i, mo in zip(k,model_list):\n",
    "    path='poli_lda_10_50_3_p30_k'+str(i)\n",
    "    mo.save('./lda_models/'+path)"
   ]
  },
  {
   "cell_type": "code",
   "execution_count": null,
   "metadata": {},
   "outputs": [],
   "source": [
    "model_list[3].print_topics(num_topics=18 ,num_words=10)"
   ]
  },
  {
   "cell_type": "markdown",
   "metadata": {},
   "source": [
    "## mallet LDA"
   ]
  },
  {
   "cell_type": "raw",
   "metadata": {},
   "source": [
    "mallet_path = '/home/kid/Documentos/LMCD/mallet-2.0.8/mallet-2.0.8/bin/mallet' # update this path\n",
    "#ldamallet = gensim.models.wrappers.LdaMallet(mallet_path, corpus=corpus, num_topics=18, id2word=dictionary)"
   ]
  },
  {
   "cell_type": "raw",
   "metadata": {},
   "source": [
    "# Show Topics\n",
    "print(ldamallet.show_topics(formatted=True))\n",
    "\n",
    "# Compute Coherence Score\n",
    "coherence_model_ldamallet = CoherenceModel(model=ldamallet, texts=texts, dictionary=dictionary, coherence='c_v')\n",
    "coherence_ldamallet = coherence_model_ldamallet.get_coherence()\n",
    "print('\\nCoherence Score: ', coherence_ldamallet)"
   ]
  },
  {
   "cell_type": "code",
   "execution_count": null,
   "metadata": {},
   "outputs": [],
   "source": [
    "from gensim import corpora, models\n",
    "import gensim\n",
    "from gensim.models import CoherenceModel\n",
    "import pandas as pd\n",
    "\n",
    "df=pd.read_pickle('./pandas_data_candidatos__premas.pd')\n",
    "\n",
    "texts=[]\n",
    "for a in df.Text_clean:\n",
    "    texts.append(a.split())\n",
    "    \n",
    "dictionary = corpora.Dictionary(texts)\n",
    "corpus = [dictionary.doc2bow(text) for text in texts]\n",
    "dictionary.save('./lda_models/lda_precandi.dict')"
   ]
  },
  {
   "cell_type": "code",
   "execution_count": null,
   "metadata": {},
   "outputs": [],
   "source": [
    "k2=[]\n",
    "def compute_coherence_values2(dictionary, corpus, texts, limit, start, step=1):\n",
    "    coherencemodel_cv = []\n",
    "    coherencemodel_umass=[]\n",
    "    model_list2 = []\n",
    "    mallet_path = '/home/kid/Documentos/LMCD/mallet-2.0.8/mallet-2.0.8/bin/mallet' # update this path\n",
    "    for num_topics in range(start, limit, step):\n",
    "        k2.append(str(num_topics))\n",
    "        model=gensim.models.wrappers.LdaMallet(mallet_path, corpus=corpus, num_topics=num_topics, id2word=dictionary)\n",
    "        print('Terminado model k= '+str(num_topics))\n",
    "        model_list2.append(model)\n",
    "        cohe_cv = CoherenceModel(model=model, texts=texts, dictionary=dictionary, coherence='c_v') \n",
    "        cohe_umass = CoherenceModel(model=model, texts=texts, dictionary=dictionary, coherence='u_mass')\n",
    "        coherencemodel_cv.append(cohe_cv.get_coherence())\n",
    "        coherencemodel_umass.append(cohe_umass.get_coherence())\n",
    "\n",
    "    return model_list2, coherencemodel_cv, coherencemodel_umass"
   ]
  },
  {
   "cell_type": "code",
   "execution_count": null,
   "metadata": {},
   "outputs": [],
   "source": [
    "modelLists=[]\n",
    "ch_cvLists=[]\n",
    "ch_umssLists=[]\n",
    "for it in range(3):\n",
    "    model_list, ch_cv, ch_umss = compute_coherence_values2(dictionary, corpus, texts, start=29, limit=31, step=2)\n",
    "    modelLists.append(model_list)\n",
    "    ch_cvLists.append(ch_cv)\n",
    "    ch_umssLists.append(ch_umss)"
   ]
  },
  {
   "cell_type": "code",
   "execution_count": null,
   "metadata": {},
   "outputs": [],
   "source": [
    "k2=[20,21,22,23,24,25,26,28,30,32,34,36,38,40,42,44,46,48,50]"
   ]
  },
  {
   "cell_type": "code",
   "execution_count": null,
   "metadata": {},
   "outputs": [],
   "source": [
    "import matplotlib.pyplot as plt\n",
    "plt.figure(figsize=(10, 7))\n",
    "iy=0\n",
    "for c in ch_cvLists:\n",
    "    plt.plot(k2[:1], c, label='run '+str(iy))\n",
    "    iy=iy+1\n",
    "plt.title(\"Choosing Optimal LDA Model\")\n",
    "plt.xlabel(\"Num Topics\")\n",
    "plt.ylabel(\"coherence_valuess\")\n",
    "plt.legend(title='Numbers running', loc='best')\n",
    "plt.show()"
   ]
  },
  {
   "cell_type": "code",
   "execution_count": null,
   "metadata": {},
   "outputs": [],
   "source": [
    "modelLists[1][9].save('./lda_models/optimo_30sd')"
   ]
  },
  {
   "cell_type": "code",
   "execution_count": null,
   "metadata": {},
   "outputs": [],
   "source": [
    "len(modelLists[2][9])"
   ]
  },
  {
   "cell_type": "code",
   "execution_count": null,
   "metadata": {},
   "outputs": [],
   "source": [
    "import matplotlib.pyplot as plt\n",
    "plt.figure(figsize=(12, 8))\n",
    "iy=0\n",
    "for c in ch_umssLists:\n",
    "    plt.plot(k2[:10], c, label='run '+str(iy))\n",
    "    iy=iy+1\n",
    "plt.title(\"Choosing Optimal LDA Model\")\n",
    "plt.xlabel(\"Num Topics\")\n",
    "plt.ylabel(\"coherence_valuess\")\n",
    "plt.legend(title='Numbers running', loc='best')\n",
    "plt.show()"
   ]
  },
  {
   "cell_type": "code",
   "execution_count": null,
   "metadata": {},
   "outputs": [],
   "source": [
    "maxi=0\n",
    "modelmas=None\n",
    "i=0\n",
    "for c, m in zip(ch_cvLists[0],modelLists[0]):\n",
    "    if c>maxi:\n",
    "        i=i+1\n",
    "        maxi=c\n",
    "        modelmas=m"
   ]
  },
  {
   "cell_type": "code",
   "execution_count": null,
   "metadata": {},
   "outputs": [],
   "source": [
    "print(maxi,i,modelmas)"
   ]
  },
  {
   "cell_type": "code",
   "execution_count": null,
   "metadata": {},
   "outputs": [],
   "source": [
    "modelLists[0][0].print_topics(num_topics=100 ,num_words=10)"
   ]
  },
  {
   "cell_type": "code",
   "execution_count": null,
   "metadata": {},
   "outputs": [],
   "source": [
    "import matplotlib.pyplot as plt\n",
    "start=30; limit=51; step=2;\n",
    "x = range(start, limit, step)\n",
    "plt.plot(x, ch_cv3)\n",
    "plt.xlabel(\"Num Topics\")\n",
    "plt.ylabel(\"Coherence score\")\n",
    "plt.legend((\"coherence_values\"), loc='best')\n",
    "plt.show()"
   ]
  },
  {
   "cell_type": "code",
   "execution_count": null,
   "metadata": {},
   "outputs": [],
   "source": [
    "import matplotlib.pyplot as plt\n",
    "start=30; limit=51; step=2;\n",
    "x = range(start, limit, step)\n",
    "plt.plot(x, ch_umss)\n",
    "plt.xlabel(\"Num Topics\")\n",
    "plt.ylabel(\"Coherence score\")\n",
    "plt.legend((\"coherence_values\"), loc='best')\n",
    "plt.show()"
   ]
  },
  {
   "cell_type": "code",
   "execution_count": null,
   "metadata": {},
   "outputs": [],
   "source": []
  },
  {
   "cell_type": "code",
   "execution_count": null,
   "metadata": {},
   "outputs": [],
   "source": []
  },
  {
   "cell_type": "code",
   "execution_count": null,
   "metadata": {},
   "outputs": [],
   "source": [
    "import matplotlib.pyplot as plt\n",
    "start=10; limit=51; step=3;\n",
    "x = range(start, limit, step)\n",
    "plt.plot(x, coherence_values2)\n",
    "plt.xlabel(\"Num Topics\")\n",
    "plt.ylabel(\"Coherence score\")\n",
    "plt.legend((\"coherence_values\"), loc='best')\n",
    "plt.show()"
   ]
  },
  {
   "cell_type": "code",
   "execution_count": null,
   "metadata": {},
   "outputs": [],
   "source": [
    "model_list2[14].show_topics(num_topics=100, formatted=False)"
   ]
  },
  {
   "cell_type": "code",
   "execution_count": null,
   "metadata": {},
   "outputs": [],
   "source": [
    "conver_lda=gensim.models.wrappers.ldamallet.malletmodel2ldamodel(model_list2[10], gamma_threshold=0.01, iterations=1000)"
   ]
  },
  {
   "cell_type": "raw",
   "metadata": {},
   "source": [
    "conver_lda.print_topics(num_topics=100 ,num_words=10)"
   ]
  },
  {
   "cell_type": "code",
   "execution_count": null,
   "metadata": {},
   "outputs": [],
   "source": [
    "model_list2[10].save('./lda_models/optimo_40')"
   ]
  },
  {
   "cell_type": "code",
   "execution_count": null,
   "metadata": {},
   "outputs": [],
   "source": [
    "from gensim.models.wrappers import ldamallet\n",
    "moo=ldamallet.LdaMallet.load('./lda_models/optimo_40', mmap=None)"
   ]
  },
  {
   "cell_type": "code",
   "execution_count": null,
   "metadata": {},
   "outputs": [],
   "source": [
    "moo.show_topics(num_topics=100, formatted=False)"
   ]
  },
  {
   "cell_type": "markdown",
   "metadata": {},
   "source": [
    "## convertir modelo"
   ]
  },
  {
   "cell_type": "code",
   "execution_count": null,
   "metadata": {},
   "outputs": [],
   "source": [
    "mallet_model=modelLists[0][0]"
   ]
  },
  {
   "cell_type": "code",
   "execution_count": null,
   "metadata": {},
   "outputs": [],
   "source": [
    "from gensim.models.ldamodel import LdaModel\n",
    "def convertldaGenToldaMallet(mallet_model):\n",
    "    model_gensim = LdaModel(\n",
    "        id2word=mallet_model.id2word, num_topics=mallet_model.num_topics,\n",
    "        alpha=mallet_model.alpha, eta=0,\n",
    "    )\n",
    "    model_gensim.state.sstats[...] = mallet_model.wordtopics\n",
    "    model_gensim.sync_state()\n",
    "    return model_gensim"
   ]
  },
  {
   "cell_type": "code",
   "execution_count": null,
   "metadata": {},
   "outputs": [],
   "source": [
    "mg=convertldaGenToldaMallet(mallet_model)"
   ]
  },
  {
   "cell_type": "code",
   "execution_count": null,
   "metadata": {},
   "outputs": [],
   "source": [
    "mg.print_topics(num_topics=100 ,num_words=10)"
   ]
  },
  {
   "cell_type": "code",
   "execution_count": null,
   "metadata": {},
   "outputs": [],
   "source": [
    "model_gensim = LdaModel(\n",
    "        id2word=mallet_model.id2word, num_topics=mallet_model.num_topics,\n",
    "        alpha=mallet_model.alpha, eta=0,\n",
    "    )\n",
    "model_gensim.state.sstats[...] = mallet_model.wordtopics\n",
    "model_gensim.sync_state()"
   ]
  },
  {
   "cell_type": "code",
   "execution_count": null,
   "metadata": {},
   "outputs": [],
   "source": [
    "model_gensim.print_topics(num_topics=100 ,num_words=10)"
   ]
  },
  {
   "cell_type": "code",
   "execution_count": null,
   "metadata": {},
   "outputs": [],
   "source": [
    "mg.save('./lda_models/model_lda_precandi')"
   ]
  },
  {
   "cell_type": "code",
   "execution_count": null,
   "metadata": {},
   "outputs": [],
   "source": [
    "[('investimento', 0.021374405720796824),\n",
    "   ('setor', 0.014734195120034576),\n",
    "   ('economia', 0.013359003575498015),\n",
    "   ('tributária', 0.011355153039173314),\n",
    "   ('indústria', 0.01009783505559703),\n",
    "   ('segurança', 0.008919099445994264),\n",
    "   ('imposto', 0.008211858080232604),\n",
    "   ('reforma', 0.008015402145298809),\n",
    "   ('crescimento', 0.007504616714470944),\n",
    "   ('melhor', 0.007347451966523908)]),"
   ]
  },
  {
   "cell_type": "code",
   "execution_count": 82,
   "metadata": {},
   "outputs": [
    {
     "data": {
      "text/plain": [
       "array([[ 0,  1],\n",
       "       [ 2,  3],\n",
       "       [ 4,  5],\n",
       "       [ 6,  7],\n",
       "       [ 8,  9],\n",
       "       [10, 11],\n",
       "       [12, 13],\n",
       "       [14, 15],\n",
       "       [16, 17],\n",
       "       [18, 19]])"
      ]
     },
     "execution_count": 82,
     "metadata": {},
     "output_type": "execute_result"
    }
   ],
   "source": [
    "import numpy as np\n",
    "from sklearn.model_selection import train_test_split\n",
    "X, y = np.arange(20).reshape((10, 2)), range(10)\n",
    "X"
   ]
  },
  {
   "cell_type": "code",
   "execution_count": 125,
   "metadata": {},
   "outputs": [],
   "source": [
    "X_train, X_test, y_train, y_test = train_test_split(X, y, test_size=0.2, random_state=None)"
   ]
  },
  {
   "cell_type": "code",
   "execution_count": 126,
   "metadata": {},
   "outputs": [
    {
     "data": {
      "text/plain": [
       "array([[14, 15],\n",
       "       [ 4,  5]])"
      ]
     },
     "execution_count": 126,
     "metadata": {},
     "output_type": "execute_result"
    }
   ],
   "source": [
    "X_test"
   ]
  },
  {
   "cell_type": "code",
   "execution_count": null,
   "metadata": {},
   "outputs": [],
   "source": []
  },
  {
   "cell_type": "code",
   "execution_count": null,
   "metadata": {},
   "outputs": [],
   "source": []
  }
 ],
 "metadata": {
  "kernelspec": {
   "display_name": "Python 3",
   "language": "python",
   "name": "python3"
  },
  "language_info": {
   "codemirror_mode": {
    "name": "ipython",
    "version": 3
   },
   "file_extension": ".py",
   "mimetype": "text/x-python",
   "name": "python",
   "nbconvert_exporter": "python",
   "pygments_lexer": "ipython3",
   "version": "3.7.3"
  }
 },
 "nbformat": 4,
 "nbformat_minor": 2
}
