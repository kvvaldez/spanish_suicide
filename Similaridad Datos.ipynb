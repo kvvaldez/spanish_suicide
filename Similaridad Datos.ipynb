{
 "cells": [
  {
   "cell_type": "code",
   "execution_count": 1,
   "metadata": {},
   "outputs": [],
   "source": [
    "from gensim.models import KeyedVectors\n",
    "import numpy as np\n",
    "from joblib import dump, load\n",
    "import pandas as pd"
   ]
  },
  {
   "cell_type": "code",
   "execution_count": 2,
   "metadata": {},
   "outputs": [],
   "source": [
    "# Usa frecuencia de palabras\n",
    "def create_tf_idf(list_text):\n",
    "\tvectorizer = TfidfVectorizer(use_idf=False, norm=None, ngram_range=(1, 1)) # use_idf=true ponderacion de frecuancia de palabras en documentos\n",
    "\ttfidf = vectorizer.fit(list(list_text))\n",
    "\tvectores_tfidf=vectorizer.transform(list_text)\n",
    "\tdump(tfidf,'tfidf_model.joblib')\n",
    "\tprint('Fue creado modelo TF-IDF')\n",
    "\t#vectores_tfidf=list(matrix)\n",
    "\t#print(len(vectores_tfidf))\n",
    "\treturn vectores_tfidf"
   ]
  },
  {
   "cell_type": "code",
   "execution_count": 3,
   "metadata": {},
   "outputs": [],
   "source": [
    "# Retorna un vector TF-IDF \n",
    "def get_vector_tfidf(list_text):\n",
    "\ttfidf=load('tfidf_model.joblib')# Ojo cuidado, solo cargar solo una vez\n",
    "\twords_ntf=[x for x in list_text.split() if x not in tfidf.get_feature_names()] # Palabras que no estan en el vocabulario del modelo\n",
    "\treturn tfidf.transform([list_text]).toarray()"
   ]
  },
  {
   "cell_type": "raw",
   "metadata": {},
   "source": [
    "def cosine_similarity(a, b):\n",
    "    return sum([i*j for i,j in zip(a, b)])/(math.sqrt(sum([i*i for i in a]))* math.sqrt(sum([i*i for i in b])))"
   ]
  },
  {
   "cell_type": "code",
   "execution_count": 4,
   "metadata": {},
   "outputs": [],
   "source": [
    "data_g = pd.read_csv('natacion_suicidio.csv') "
   ]
  },
  {
   "cell_type": "code",
   "execution_count": 5,
   "metadata": {},
   "outputs": [],
   "source": [
    "clase=list(data_g.suicidio)\n",
    "text=list(data_g.tweet_clean)"
   ]
  },
  {
   "cell_type": "code",
   "execution_count": 6,
   "metadata": {},
   "outputs": [],
   "source": [
    "selec_dat=data_g.loc[data_g['suicidio'] == 1]"
   ]
  },
  {
   "cell_type": "code",
   "execution_count": 7,
   "metadata": {},
   "outputs": [
    {
     "data": {
      "text/html": [
       "<div>\n",
       "<style scoped>\n",
       "    .dataframe tbody tr th:only-of-type {\n",
       "        vertical-align: middle;\n",
       "    }\n",
       "\n",
       "    .dataframe tbody tr th {\n",
       "        vertical-align: top;\n",
       "    }\n",
       "\n",
       "    .dataframe thead th {\n",
       "        text-align: right;\n",
       "    }\n",
       "</style>\n",
       "<table border=\"1\" class=\"dataframe\">\n",
       "  <thead>\n",
       "    <tr style=\"text-align: right;\">\n",
       "      <th></th>\n",
       "      <th>frase</th>\n",
       "      <th>tweet_clean</th>\n",
       "      <th>suicidio</th>\n",
       "    </tr>\n",
       "  </thead>\n",
       "  <tbody>\n",
       "    <tr>\n",
       "      <th>7</th>\n",
       "      <td>cansado de estar solo</td>\n",
       "      <td>louis espero no estar pidiendo mucho solo quie...</td>\n",
       "      <td>1</td>\n",
       "    </tr>\n",
       "    <tr>\n",
       "      <th>17</th>\n",
       "      <td>cansado de estar solo</td>\n",
       "      <td>estoy super cansado cansado de la gente cansad...</td>\n",
       "      <td>1</td>\n",
       "    </tr>\n",
       "    <tr>\n",
       "      <th>26</th>\n",
       "      <td>dormir y nunca mas despertar</td>\n",
       "      <td>dormir y desear nunca más despertar</td>\n",
       "      <td>1</td>\n",
       "    </tr>\n",
       "    <tr>\n",
       "      <th>27</th>\n",
       "      <td>dormir y nunca mas despertar</td>\n",
       "      <td>ojalá dormir y nunca mas despertar</td>\n",
       "      <td>1</td>\n",
       "    </tr>\n",
       "    <tr>\n",
       "      <th>29</th>\n",
       "      <td>dormir y nunca mas despertar</td>\n",
       "      <td>me cansé de todo no tengo ganas ni de ir al ba...</td>\n",
       "      <td>1</td>\n",
       "    </tr>\n",
       "  </tbody>\n",
       "</table>\n",
       "</div>"
      ],
      "text/plain": [
       "                           frase  \\\n",
       "7          cansado de estar solo   \n",
       "17         cansado de estar solo   \n",
       "26  dormir y nunca mas despertar   \n",
       "27  dormir y nunca mas despertar   \n",
       "29  dormir y nunca mas despertar   \n",
       "\n",
       "                                          tweet_clean  suicidio  \n",
       "7   louis espero no estar pidiendo mucho solo quie...         1  \n",
       "17  estoy super cansado cansado de la gente cansad...         1  \n",
       "26                dormir y desear nunca más despertar         1  \n",
       "27                 ojalá dormir y nunca mas despertar         1  \n",
       "29  me cansé de todo no tengo ganas ni de ir al ba...         1  "
      ]
     },
     "execution_count": 7,
     "metadata": {},
     "output_type": "execute_result"
    }
   ],
   "source": [
    "selec_dat.head(5)"
   ]
  },
  {
   "cell_type": "code",
   "execution_count": 8,
   "metadata": {},
   "outputs": [],
   "source": [
    "selec_data_text=list(selec_dat.tweet_clean)\n",
    "selec_data_tipo=list(selec_dat.frase)"
   ]
  },
  {
   "cell_type": "code",
   "execution_count": 9,
   "metadata": {},
   "outputs": [],
   "source": [
    "data_todo = pd.read_csv('suicidio_todo.csv') "
   ]
  },
  {
   "cell_type": "code",
   "execution_count": 10,
   "metadata": {},
   "outputs": [],
   "source": [
    "text_todo=list(data_todo.tweet_clean.values.astype('U'))\n",
    "text_todo_tipo=list(data_todo.frase.values.astype('U'))"
   ]
  },
  {
   "cell_type": "code",
   "execution_count": 11,
   "metadata": {},
   "outputs": [],
   "source": [
    "from sklearn.feature_extraction.text import TfidfVectorizer\n",
    "from gensim.models import KeyedVectors"
   ]
  },
  {
   "cell_type": "code",
   "execution_count": 12,
   "metadata": {},
   "outputs": [
    {
     "name": "stdout",
     "output_type": "stream",
     "text": [
      "Fue creado modelo TF-IDF\n"
     ]
    }
   ],
   "source": [
    "vectores_tfidf=create_tf_idf(text_todo)"
   ]
  },
  {
   "cell_type": "code",
   "execution_count": 13,
   "metadata": {},
   "outputs": [
    {
     "data": {
      "text/plain": [
       "(54487, 47585)"
      ]
     },
     "execution_count": 13,
     "metadata": {},
     "output_type": "execute_result"
    }
   ],
   "source": [
    "vectores_tfidf.shape"
   ]
  },
  {
   "cell_type": "code",
   "execution_count": 14,
   "metadata": {},
   "outputs": [],
   "source": [
    "import math\n",
    "from sklearn.metrics.pairwise import cosine_similarity"
   ]
  },
  {
   "cell_type": "code",
   "execution_count": 21,
   "metadata": {},
   "outputs": [],
   "source": [
    "vec_sele=get_vector_tfidf(j)\n",
    "vec_todo_j=get_vector_tfidf(y)"
   ]
  },
  {
   "cell_type": "code",
   "execution_count": 22,
   "metadata": {},
   "outputs": [
    {
     "name": "stdout",
     "output_type": "stream",
     "text": [
      "cansado de estar solo -- dormir y nunca mas despertar\n"
     ]
    }
   ],
   "source": [
    "for i,j in zip(selec_data_tipo, vec_sele):\n",
    "    #vec_sele=get_vector_tfidf(j)\n",
    "    for x,y in zip(text_todo_tipo, vec_todo_j):\n",
    "        #vec_todo_j=get_vector_tfidf(y)\n",
    "        print(i,'--',x)\n",
    "        if i==x:\n",
    "            simi=cosine_similarity(vec_sele,vec_todo_j)[0][0]\n",
    "            print(simi)"
   ]
  },
  {
   "cell_type": "code",
   "execution_count": null,
   "metadata": {},
   "outputs": [],
   "source": []
  }
 ],
 "metadata": {
  "kernelspec": {
   "display_name": "Python 3",
   "language": "python",
   "name": "python3"
  }
 },
 "nbformat": 4,
 "nbformat_minor": 2
}
